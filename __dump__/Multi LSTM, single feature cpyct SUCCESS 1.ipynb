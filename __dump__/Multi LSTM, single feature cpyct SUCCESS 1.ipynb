{
 "cells": [
  {
   "cell_type": "code",
   "execution_count": 62,
   "metadata": {},
   "outputs": [],
   "source": [
    "import numpy as np\n",
    "import pandas as pd\n",
    "import pandas_datareader.data as pdr\n",
    "import matplotlib.pyplot as plt\n",
    "import datetime\n",
    "import torch\n",
    "import torch.nn as nn\n",
    "from torch.autograd import Variable\n",
    "import torch.optim as optim\n",
    "from torch.utils.data import Dataset, DataLoader"
   ]
  },
  {
   "cell_type": "code",
   "execution_count": 63,
   "metadata": {},
   "outputs": [],
   "source": [
    "num=4\n",
    "fn = ['DRB동일.csv', 'KEC.csv', 'SK아이이테크놀로지.csv', '기신정기.csv', '동양피스톤.csv', '두산퓨얼셀.csv', '디와이파워.csv', '삼아알미늄.csv', '티와이홀딩스.csv', '화승코퍼레이션.csv']\n",
    "\n",
    "df = pd.read_csv('data/aside/'+fn[num], index_col = 'Date', parse_dates=True)\n",
    "df['Mid']=(df['Low']+df['High'])/2\n",
    "\n",
    "cut_line = len(df['Mid'])-round(len(df['Mid'])/10)\n",
    "\n",
    "train_data = df['Mid'].values[:cut_line].reshape(-1,1).astype('float')\n",
    "test_data = df['Mid'].values[cut_line:].reshape(-1,1).astype('float')\n",
    "\n",
    "\n",
    "from sklearn.preprocessing import minmax_scale as mm\n",
    "\n",
    "train_data = mm(train_data)\n",
    "test_data = mm(test_data)"
   ]
  },
  {
   "cell_type": "code",
   "execution_count": 64,
   "metadata": {
    "scrolled": true
   },
   "outputs": [],
   "source": [
    "def create_seq(data, seq_length):\n",
    "    x = []\n",
    "    y = []\n",
    "    for i in range(len(data)-seq_length):\n",
    "        x.append(data[i:i+seq_length])\n",
    "        y.append(data[i+seq_length])\n",
    "    x = np.array(x)\n",
    "    y = np.array(y)\n",
    "    return x, y"
   ]
  },
  {
   "cell_type": "code",
   "execution_count": 65,
   "metadata": {},
   "outputs": [],
   "source": [
    "class LSTM1(nn.Module):\n",
    "    def __init__(self, input_size, hidden_size, num_layers, seq_len):\n",
    "        super(LSTM1, self).__init__()\n",
    "        self.num_layers = num_layers #number of layers \n",
    "        self.input_size = input_size #input size (number of features)\n",
    "        self.hidden_size = hidden_size #hidden state \n",
    "        self.seq_len = seq_len #sequence length \n",
    "        self.lstm = nn.LSTM(input_size=input_size, hidden_size=hidden_size, num_layers=num_layers) #lstm \n",
    "        self.fc = nn.Linear(self.hidden_size, 1) #fully connected last layer \n",
    "    \n",
    "    def init_hidden(self):\n",
    "        self.hidden = (\n",
    "            torch.zeros(self.num_layers, self.seq_len, self.hidden_size),\n",
    "            torch.zeros(self.num_layers, self.seq_len, self.hidden_size)          \n",
    "                      )\n",
    "    \n",
    "    def forward(self,seqs):\n",
    "        lstm_out, self.hidden = self.lstm(seqs.view(len(seqs), self.seq_len, -1), self.hidden) #lstm with input, hidden, and internal state \n",
    "        lstm_last = lstm_out.view(self.seq_len, len(seqs), self.hidden_size)[-1]\n",
    "        out = self.fc(lstm_last)\n",
    "\n",
    "        return out"
   ]
  },
  {
   "cell_type": "code",
   "execution_count": 78,
   "metadata": {},
   "outputs": [],
   "source": [
    "num_epochs = 5000 #seems to converge at 10000 for 화송코퍼레이션\n",
    "learning_rate = 0.001\n",
    "\n",
    "input_size = 1 #number of features\n",
    "hidden_size = 5 #number of features in hidden state\n",
    "num_layers = 1 #number of stacked lstm layers\n",
    "seq_len = 3\n",
    "\n",
    "x_train, y_train = create_seq(train_data, seq_len)\n",
    "x_test, y_test = create_seq(test_data, seq_len)\n",
    "x_train, y_train, x_test, y_test = map(lambda data:torch.from_numpy(data).float(), [x_train, y_train, x_test, y_test])\n",
    "\n",
    "device = torch.device(\"cuda:0\" if torch.cuda.is_available() else \"cpu\") # device\n",
    "lstm1 = LSTM1(input_size, hidden_size, num_layers, seq_len).to(device)\n",
    "\n",
    "loss_function = torch.nn.MSELoss()    # mean-squared error for regression\n",
    "optimizer = torch.optim.Adam(lstm1.parameters(), lr=learning_rate)  # adam optimizer\n"
   ]
  },
  {
   "cell_type": "code",
   "execution_count": 79,
   "metadata": {
    "scrolled": true
   },
   "outputs": [
    {
     "name": "stdout",
     "output_type": "stream",
     "text": [
      "Epoch: 0, loss: 0.70432\n",
      "Epoch: 100, loss: 0.23175\n",
      "Epoch: 200, loss: 0.03667\n",
      "Epoch: 300, loss: 0.02411\n",
      "Epoch: 400, loss: 0.02410\n",
      "Epoch: 500, loss: 0.02409\n",
      "Epoch: 600, loss: 0.02409\n",
      "Epoch: 700, loss: 0.02408\n",
      "Epoch: 800, loss: 0.02406\n",
      "Epoch: 900, loss: 0.02405\n",
      "Epoch: 1000, loss: 0.02404\n",
      "Epoch: 1100, loss: 0.02402\n",
      "Epoch: 1200, loss: 0.02399\n",
      "Epoch: 1300, loss: 0.02396\n",
      "Epoch: 1400, loss: 0.02393\n",
      "Epoch: 1500, loss: 0.02387\n",
      "Epoch: 1600, loss: 0.02380\n",
      "Epoch: 1700, loss: 0.02369\n",
      "Epoch: 1800, loss: 0.02348\n",
      "Epoch: 1900, loss: 0.02299\n",
      "Epoch: 2000, loss: 0.02221\n",
      "Epoch: 2100, loss: 0.02090\n",
      "Epoch: 2200, loss: 0.01819\n",
      "Epoch: 2300, loss: 0.01522\n",
      "Epoch: 2400, loss: 0.01493\n",
      "Epoch: 2500, loss: 0.01490\n",
      "Epoch: 2600, loss: 0.01476\n",
      "Epoch: 2700, loss: 0.01471\n",
      "Epoch: 2800, loss: 0.01461\n",
      "Epoch: 2900, loss: 0.01458\n",
      "Epoch: 3000, loss: 0.01453\n",
      "Epoch: 3100, loss: 0.01447\n",
      "Epoch: 3200, loss: 0.01441\n",
      "Epoch: 3300, loss: 0.01436\n",
      "Epoch: 3400, loss: 0.01432\n",
      "Epoch: 3500, loss: 0.01427\n",
      "Epoch: 3600, loss: 0.01423\n",
      "Epoch: 3700, loss: 0.01418\n",
      "Epoch: 3800, loss: 0.01414\n",
      "Epoch: 3900, loss: 0.01410\n",
      "Epoch: 4000, loss: 0.01407\n",
      "Epoch: 4100, loss: 0.01403\n",
      "Epoch: 4200, loss: 0.01400\n",
      "Epoch: 4300, loss: 0.01397\n",
      "Epoch: 4400, loss: 0.01394\n",
      "Epoch: 4500, loss: 0.01391\n",
      "Epoch: 4600, loss: 0.01389\n",
      "Epoch: 4700, loss: 0.01386\n",
      "Epoch: 4800, loss: 0.01384\n",
      "Epoch: 4900, loss: 0.01382\n"
     ]
    }
   ],
   "source": [
    "for epoch in range(num_epochs):\n",
    "    lstm1.init_hidden()\n",
    "    y_pred = lstm1(x_train)  \n",
    "    loss = loss_function(y_pred, y_train) \n",
    "    # obtain the loss function \n",
    "    optimizer.zero_grad() \n",
    "    loss.backward() #calculates the loss of the loss function \n",
    "    optimizer.step() #improve from loss, i.e backprop \n",
    "    if epoch % 100 == 0: \n",
    "        print(\"Epoch: %d, loss: %1.5f\" % (epoch, loss.item()))"
   ]
  },
  {
   "cell_type": "code",
   "execution_count": 100,
   "metadata": {
    "scrolled": true
   },
   "outputs": [
    {
     "data": {
      "image/png": "[encoded data removed]",
      "text/plain": [
       "<Figure size 540x324 with 1 Axes>"
      ]
     },
     "metadata": {
      "needs_background": "light"
     },
     "output_type": "display_data"
    }
   ],
   "source": [
    "\n",
    "\n",
    "# plt.rc('font', family='NanumGothic') # use when korean text output is needed\n",
    "\n",
    "#reshaping the dataset\n",
    "data_predict = lstm1(x_test.to(device)).data.detach().cpu().numpy()\n",
    "\n",
    "history_cut = 0 # length of latest history to view. Set to 0 to see whole test set.\n",
    "\n",
    "plt.figure(figsize=(7.5,4.5)) #plotting\n",
    "plt.plot(y_test[-history_cut:], label='actual price', marker='o') #actual plot\n",
    "plt.plot(data_predict[-history_cut:], label='predicted price', marker='v') #predicted plot\n",
    "plt.title(f\"Company {num}\")\n",
    "plt.legend(loc='upper left')\n",
    "\n",
    "# save model performance and hyperparameters\n",
    "from datetime import datetime\n",
    "filename = datetime.now().strftime(\"%Y%m%d-%H%M%S\")\n",
    "\n",
    "plt.savefig(f'performance/{filename}.png')\n",
    "\n",
    "with open(\"performance/performance.txt\",'a') as f:\n",
    "    f.write(f\"\"\"\n",
    "id:\\t\\t{filename}\n",
    "num_epochs:\\t{num_epochs}\n",
    "learning_rate:\\t{learning_rate}\n",
    "hidden_size:\\t{hidden_size}\n",
    "num_layers:\\t{num_layers}\n",
    "seq_len:\\t\\t{seq_len}\n",
    "loss:\\t\\t{round(loss.item(),5)}\"\"\")"
   ]
  },
  {
   "cell_type": "code",
   "execution_count": 97,
   "metadata": {},
   "outputs": [
    {
     "data": {
      "text/plain": [
       "<Figure size 432x288 with 0 Axes>"
      ]
     },
     "metadata": {},
     "output_type": "display_data"
    }
   ],
   "source": []
  },
  {
   "cell_type": "code",
   "execution_count": null,
   "metadata": {},
   "outputs": [],
   "source": []
  }
 ],
 "metadata": {
  "kernelspec": {
   "display_name": "Python 3",
   "language": "python",
   "name": "python3"
  },
  "language_info": {
   "codemirror_mode": {
    "name": "ipython",
    "version": 3
   },
   "file_extension": ".py",
   "mimetype": "text/x-python",
   "name": "python",
   "nbconvert_exporter": "python",
   "pygments_lexer": "ipython3",
   "version": "3.8.5"
  }
 },
 "nbformat": 4,
 "nbformat_minor": 4
}
