{
 "cells": [
  {
   "cell_type": "code",
   "execution_count": 52,
   "metadata": {},
   "outputs": [],
   "source": [
    "import numpy as np\n",
    "import pandas as pd\n",
    "import pandas_datareader.data as pdr\n",
    "import matplotlib.pyplot as plt\n",
    "import datetime\n",
    "import torch\n",
    "import torch.nn as nn\n",
    "from torch.autograd import Variable\n",
    "import torch.optim as optim\n",
    "from torch.utils.data import Dataset, DataLoader"
   ]
  },
  {
   "cell_type": "code",
   "execution_count": 53,
   "metadata": {},
   "outputs": [],
   "source": [
    "num=1\n",
    "fn = ['DRB동일.csv', 'KEC.csv', 'SK아이이테크놀로지.csv', '기신정기.csv', '동양피스톤.csv', '두산퓨얼셀.csv', '디와이파워.csv', '삼아알미늄.csv', '티와이홀딩스.csv', '화승코퍼레이션.csv']\n",
    "\n",
    "df = pd.read_csv('data/aside/'+fn[num], index_col = 'Date', parse_dates=True)\n",
    "df['Mid']=(df['Low']+df['High'])/2\n",
    "\n",
    "cut_line = len(df['Mid'])-round(len(df['Mid'])/10)\n",
    "\n",
    "train_data = df['Mid'].values[:cut_line].reshape(-1,1).astype('float')\n",
    "test_data = df['Mid'].values[cut_line:].reshape(-1,1).astype('float')\n",
    "\n",
    "\n",
    "from sklearn.preprocessing import minmax_scale as mm\n",
    "\n",
    "train_data = mm(train_data)\n",
    "test_data = mm(test_data)"
   ]
  },
  {
   "cell_type": "code",
   "execution_count": 54,
   "metadata": {
    "scrolled": true
   },
   "outputs": [],
   "source": [
    "def create_seq(data, seq_length):\n",
    "    x = []\n",
    "    y = []\n",
    "    for i in range(len(data)-seq_length):\n",
    "        x.append(data[i:i+seq_length])\n",
    "        y.append(data[i+seq_length])\n",
    "    x = np.array(x)\n",
    "    y = np.array(y)\n",
    "    return x, y"
   ]
  },
  {
   "cell_type": "code",
   "execution_count": 55,
   "metadata": {},
   "outputs": [],
   "source": [
    "x_train, y_train = create_seq(train_data, 7)\n",
    "x_test, y_test = create_seq(test_data, 7)"
   ]
  },
  {
   "cell_type": "code",
   "execution_count": 56,
   "metadata": {},
   "outputs": [],
   "source": [
    "x_train, y_train, x_test, y_test = map(lambda data:torch.from_numpy(data).float(), [x_train, y_train, x_test, y_test])"
   ]
  },
  {
   "cell_type": "code",
   "execution_count": 57,
   "metadata": {},
   "outputs": [
    {
     "data": {
      "text/plain": [
       "tensor([[0.6802],\n",
       "        [0.6828]])"
      ]
     },
     "execution_count": 57,
     "metadata": {},
     "output_type": "execute_result"
    }
   ],
   "source": [
    "y_train[:2]"
   ]
  },
  {
   "cell_type": "code",
   "execution_count": 58,
   "metadata": {},
   "outputs": [],
   "source": [
    "device = torch.device(\"cuda:0\" if torch.cuda.is_available() else \"cpu\") # device"
   ]
  },
  {
   "cell_type": "code",
   "execution_count": 62,
   "metadata": {},
   "outputs": [],
   "source": [
    "class CoronaVirusPredictor(nn.Module):\n",
    "\n",
    "    def __init__(self, n_features, n_hidden, seq_len, n_layers=2):\n",
    "        super(CoronaVirusPredictor, self).__init__()\n",
    "\n",
    "        self.n_hidden = n_hidden\n",
    "        self.seq_len = seq_len\n",
    "        self.n_layers = n_layers\n",
    "\n",
    "        self.lstm = nn.LSTM(\n",
    "          input_size=n_features,\n",
    "          hidden_size=n_hidden,\n",
    "          num_layers=n_layers,\n",
    "          dropout=0.5\n",
    "        )\n",
    "\n",
    "        self.linear = nn.Linear(in_features=n_hidden, out_features=1)\n",
    "\n",
    "    def reset_hidden_state(self):\n",
    "        self.hidden = (\n",
    "            torch.zeros(self.n_layers, self.seq_len, self.n_hidden),\n",
    "            torch.zeros(self.n_layers, self.seq_len, self.n_hidden)\n",
    "        )\n",
    "\n",
    "    def forward(self, sequences):\n",
    "        lstm_out, self.hidden = self.lstm(\n",
    "          sequences.view(len(sequences), self.seq_len, -1),\n",
    "          self.hidden\n",
    "        )\n",
    "        last_time_step = \\\n",
    "          lstm_out.view(self.seq_len, len(sequences), self.n_hidden)[-1]\n",
    "        y_pred = self.linear(last_time_step)\n",
    "        return y_pred"
   ]
  },
  {
   "cell_type": "code",
   "execution_count": 63,
   "metadata": {},
   "outputs": [],
   "source": [
    "def train_model(\n",
    "  model, \n",
    "  train_data, \n",
    "  train_labels, \n",
    "  test_data=None, \n",
    "  test_labels=None\n",
    "):\n",
    "    loss_fn = torch.nn.MSELoss(reduction='sum')\n",
    "\n",
    "    optimiser = torch.optim.Adam(model.parameters(), lr=1e-3)\n",
    "    num_epochs = 60\n",
    "\n",
    "    train_hist = np.zeros(num_epochs)\n",
    "    test_hist = np.zeros(num_epochs)\n",
    "\n",
    "    for t in range(num_epochs):\n",
    "        model.reset_hidden_state()\n",
    "\n",
    "        y_pred = model(x_train)\n",
    "\n",
    "        loss = loss_fn(y_pred.float(), y_train)\n",
    "\n",
    "        if test_data is not None:\n",
    "            with torch.no_grad():\n",
    "                y_test_pred = model(x_test)\n",
    "                test_loss = loss_fn(y_test_pred.float(), y_test)\n",
    "            test_hist[t] = test_loss.item()\n",
    "\n",
    "            if t % 10 == 0:  \n",
    "                print(f'Epoch {t} train loss: {loss.item()} test loss: {test_loss.item()}')\n",
    "        elif t % 10 == 0:\n",
    "            print(f'Epoch {t} train loss: {loss.item()}')\n",
    "\n",
    "        train_hist[t] = loss.item()\n",
    "    \n",
    "        optimiser.zero_grad()\n",
    "\n",
    "        loss.backward()\n",
    "\n",
    "        optimiser.step()\n",
    "  \n",
    "    return model.eval(), train_hist, test_hist"
   ]
  },
  {
   "cell_type": "code",
   "execution_count": 64,
   "metadata": {
    "scrolled": true
   },
   "outputs": [
    {
     "name": "stdout",
     "output_type": "stream",
     "text": [
      "Epoch 0 train loss: 378.59039306640625 test loss: 100.20598602294922\n",
      "Epoch 10 train loss: 173.80374145507812 test loss: 42.656028747558594\n",
      "Epoch 20 train loss: 175.6184844970703 test loss: 44.23836898803711\n",
      "Epoch 30 train loss: 173.88369750976562 test loss: 38.23432540893555\n",
      "Epoch 40 train loss: 173.3882598876953 test loss: 38.02839279174805\n",
      "Epoch 50 train loss: 173.27777099609375 test loss: 36.86834716796875\n"
     ]
    }
   ],
   "source": [
    "model = CoronaVirusPredictor(\n",
    "  n_features=1, \n",
    "  n_hidden=512, \n",
    "  seq_len=7, \n",
    "  n_layers=2\n",
    ")\n",
    "model, train_hist, test_hist = train_model(\n",
    "  model, \n",
    "  x_train, \n",
    "  y_train, \n",
    "  x_test, \n",
    "  y_test\n",
    ")"
   ]
  },
  {
   "cell_type": "code",
   "execution_count": null,
   "metadata": {
    "scrolled": true
   },
   "outputs": [],
   "source": [
    "# plt.rc('font', family='NanumGothic') # use when korean text output is needed\n",
    "\n",
    "from sklearn.preprocessing import MinMaxScaler as MMS\n",
    "\n",
    "scaler = MMS()\n",
    "scaler.fit(df['Mid'].values[cut_line:].reshape(-1,1).astype('float'))\n",
    "data_predict = model(x_test.to(device)).data.detach().cpu().numpy()\n",
    "data_predict = scaler.inverse_transform(data_predict) #reverse transformation\n",
    "\n",
    "history_cut = 0 # length of latest history to view. Set to 0 to see whole test set.\n",
    "\n",
    "plt.figure(figsize=(7.5,4.5)) #plotting\n",
    "plt.plot(df['Mid'].values[cut_line:].reshape(-1,1).astype('float')[cut_line:][-history_cut:], label='actual price', marker='o') #actual plot\n",
    "plt.plot(data_predict[cut_line:][-history_cut:], label='predicted price', marker='v') #predicted plot\n",
    "plt.title(\"Company I\".split(\".\")[0])\n",
    "plt.legend(loc='upper left')\n",
    "plt.show() "
   ]
  },
  {
   "cell_type": "code",
   "execution_count": null,
   "metadata": {},
   "outputs": [],
   "source": []
  }
 ],
 "metadata": {
  "kernelspec": {
   "display_name": "Python 3",
   "language": "python",
   "name": "python3"
  },
  "language_info": {
   "codemirror_mode": {
    "name": "ipython",
    "version": 3
   },
   "file_extension": ".py",
   "mimetype": "text/x-python",
   "name": "python",
   "nbconvert_exporter": "python",
   "pygments_lexer": "ipython3",
   "version": "3.8.5"
  }
 },
 "nbformat": 4,
 "nbformat_minor": 4
}
