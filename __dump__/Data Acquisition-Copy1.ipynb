{
 "cells": [
  {
   "cell_type": "code",
   "execution_count": null,
   "metadata": {
    "id": "iVp9MiG68-gU"
   },
   "outputs": [],
   "source": [
    "from pandas_datareader import data\n",
    "import pandas as pd\n",
    "\n",
    "def getStockCode(market):\n",
    "    if market == 'kosdaq':\n",
    "        url_market = 'kosdaqMkt'\n",
    "    elif market == 'kospi':\n",
    "        url_market = 'stockMkt'\n",
    "    else:\n",
    "        print('invalid market ')\n",
    "        return\n",
    "    url = 'http://kind.krx.co.kr/corpgeneral/corpList.do?method=download&searchType=13&marketType=%s' % url_market\n",
    "    df = pd.read_html(url, header=0)[0]\n",
    "    return df"
   ]
  },
  {
   "cell_type": "code",
   "execution_count": null,
   "metadata": {
    "id": "CfiZoQRr9B7Y"
   },
   "outputs": [],
   "source": [
    "if __name__ == '__main__':\n",
    "    df = getStockCode('kospi')\n",
    "    df.to_csv('kospi.csv')\n",
    "#    print(result_df[['회사명', '종목코드']])"
   ]
  },
  {
   "cell_type": "code",
   "execution_count": null,
   "metadata": {
    "colab": {
     "base_uri": "https://localhost:8080/",
     "height": 688
    },
    "id": "O4oxfSuGMAHy",
    "outputId": "3707083d-3d30-421b-e6a4-fd6c845b2009"
   },
   "outputs": [],
   "source": [
    "from pandas_datareader import data as pdr\n",
    "import yfinance as yf \n",
    "yf.pdr_override() # <== that's all it takes :-)\n",
    "\n",
    "\n",
    "SAMSUNG = pdr.get_data_yahoo( \"005930.KS\", start=\"2020-01-01\", end=\"2020-12-30\")\n",
    "print(SAMSUNG.head())"
   ]
  },
  {
   "cell_type": "code",
   "execution_count": null,
   "metadata": {
    "colab": {
     "base_uri": "https://localhost:8080/"
    },
    "id": "FOQRCxA-M3h1",
    "outputId": "9ee5db3d-bd1c-4600-8e09-ebc325a96d4a"
   },
   "outputs": [],
   "source": [
    "from time import sleep\n",
    "fail = []\n",
    "for _, data in df.iterrows():\n",
    "    code = str(data['종목코드'])\n",
    "    code_len = len(code)\n",
    "    new_code = \"0\"*(6-code_len)+code+\".KS\"\n",
    "    try:  \n",
    "        company_data = pdr.get_data_yahoo(new_code, start=data['상장일'], end=\"2021-10-29\")\n",
    "        company_data.to_csv('data/raw/'+data['회사명']+'.csv')\n",
    "    except:\n",
    "        print(data['회사명']+' retreival unsuccessful')\n",
    "        fail.append(data['회사명'])\n",
    "print(fail)"
   ]
  },
  {
   "cell_type": "code",
   "execution_count": null,
   "metadata": {
    "id": "FWFH4u_iIKeE"
   },
   "outputs": [],
   "source": [
    "pip install finance-datareader"
   ]
  },
  {
   "cell_type": "code",
   "execution_count": null,
   "metadata": {},
   "outputs": [],
   "source": [
    "import FinanceDataReader as fdr\n",
    "from pandas_datareader import data as pdr\n",
    "\n",
    "import datetime\n",
    "import csv"
   ]
  },
  {
   "cell_type": "code",
   "execution_count": null,
   "metadata": {},
   "outputs": [],
   "source": [
    "df = fdr.StockListing('NASDAQ')\n",
    "for _, data in df.iterrows():\n",
    "    done = False\n",
    "    dtstr = \"1980-01-01\"\n",
    "    while not done:\n",
    "        try:\n",
    "            company_data = pdr.get_data_yahoo(data['Symbol'], start=dtstr, end=\"2021-10-29\")\n",
    "            done = True\n",
    "        except:\n",
    "            dt = datetime.datetime.strptime(dtstr,'%Y-%m-%d')\n",
    "            newd = dt+datetime.timedelta(days=1)\n",
    "            dtstr = newd.strftime(\"%Y-%m-%d\")\n",
    "    company_data.to_csv(\"nasdaqq/\"+''.join(e for e in data['Name'] if e.isalnum())+\".csv\")"
   ]
  },
  {
   "cell_type": "code",
   "execution_count": null,
   "metadata": {},
   "outputs": [],
   "source": [
    "print('done')"
   ]
  },
  {
   "cell_type": "code",
   "execution_count": null,
   "metadata": {},
   "outputs": [],
   "source": []
  }
 ],
 "metadata": {
  "colab": {
   "name": "Copy of Data Acquisition + Preprocessing",
   "provenance": []
  },
  "kernelspec": {
   "display_name": "Python 3",
   "language": "python",
   "name": "python3"
  },
  "language_info": {
   "codemirror_mode": {
    "name": "ipython",
    "version": 3
   },
   "file_extension": ".py",
   "mimetype": "text/x-python",
   "name": "python",
   "nbconvert_exporter": "python",
   "pygments_lexer": "ipython3",
   "version": "3.8.5"
  }
 },
 "nbformat": 4,
 "nbformat_minor": 1
}
