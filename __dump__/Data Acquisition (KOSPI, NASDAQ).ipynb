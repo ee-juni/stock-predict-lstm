{
  "cells": [
    {
      "cell_type": "code",
      "source": [
        "pip install yfinance"
      ],
      "metadata": {
        "id": "k_7eyrtXQQT7"
      },
      "execution_count": null,
      "outputs": []
    },
    {
      "cell_type": "code",
      "execution_count": null,
      "metadata": {
        "id": "FWFH4u_iIKeE"
      },
      "outputs": [],
      "source": [
        "pip install finance-datareader"
      ]
    },
    {
      "cell_type": "code",
      "execution_count": 3,
      "metadata": {
        "id": "iVp9MiG68-gU"
      },
      "outputs": [],
      "source": [
        "import pandas as pd\n",
        "from pandas_datareader import data as pdr\n",
        "import yfinance as yf #for Korean market\n",
        "import FinanceDataReader as fdr #for US market\n",
        "import datetime\n",
        "import csv"
      ]
    },
    {
      "cell_type": "code",
      "execution_count": 4,
      "metadata": {
        "id": "CfiZoQRr9B7Y"
      },
      "outputs": [],
      "source": [
        "def getStockCode(market):\n",
        "    if market == 'kosdaq':\n",
        "        url_market = 'kosdaqMkt'\n",
        "    elif market == 'kospi':\n",
        "        url_market = 'stockMkt'\n",
        "    else:\n",
        "        print('invalid market ')\n",
        "        return\n",
        "    url = 'http://kind.krx.co.kr/corpgeneral/corpList.do?method=download&searchType=13&marketType=%s' % url_market\n",
        "    df = pd.read_html(url, header=0)[0]\n",
        "    return df"
      ]
    },
    {
      "cell_type": "code",
      "execution_count": null,
      "metadata": {
        "id": "FOQRCxA-M3h1"
      },
      "outputs": [],
      "source": [
        "# Retrieving KOSPI data\n",
        "\n",
        "df = getStockCode('kospi')\n",
        "\n",
        "fail = [] #Failed retrievals\n",
        "\n",
        "for _, data in df.iterrows():\n",
        "    code = str(data['종목코드'])\n",
        "    code_len = len(code)\n",
        "    new_code = \"0\"*(6-code_len)+code+\".KS\"\n",
        "    try:  \n",
        "        company_data = pdr.get_data_yahoo(new_code, start=data['상장일'], end=\"2021-10-29\")\n",
        "        company_data.to_csv('data/raw/kospi/'+data['회사명']+'.csv')\n",
        "    except:\n",
        "        print(data['회사명']+' retreival unsuccessful')\n",
        "        fail.append(data['회사명'])\n",
        "\n",
        "print(fail)"
      ]
    },
    {
      "cell_type": "code",
      "execution_count": null,
      "metadata": {
        "id": "ENS49vMjQHvA"
      },
      "outputs": [],
      "source": [
        "# Retrieving NASDAQ data\n",
        "\n",
        "df = fdr.StockListing('NASDAQ')\n",
        "\n",
        "for _, data in df.iterrows():\n",
        "    done = False\n",
        "    dtstr = \"1980-01-01\"\n",
        "    while not done:\n",
        "        try:\n",
        "            company_data = pdr.get_data_yahoo(data['Symbol'], start=dtstr, end=\"2021-10-29\")\n",
        "            done = True\n",
        "        except:\n",
        "            dt = datetime.datetime.strptime(dtstr,'%Y-%m-%d')\n",
        "            newd = dt+datetime.timedelta(days=1)\n",
        "            dtstr = newd.strftime(\"%Y-%m-%d\")\n",
        "    company_data.to_csv(\"data/raw/nasdaq/\"+''.join(e for e in data['Name'] if e.isalnum())+\".csv\") # remove special characters from company name"
      ]
    },
    {
      "cell_type": "code",
      "execution_count": null,
      "metadata": {
        "id": "i4mvLbf5QHvA"
      },
      "outputs": [],
      "source": [
        "print('done')"
      ]
    },
    {
      "cell_type": "code",
      "execution_count": null,
      "metadata": {
        "id": "giNttQPnQHvB"
      },
      "outputs": [],
      "source": [
        ""
      ]
    }
  ],
  "metadata": {
    "colab": {
      "name": "Data Acquisition-Copy1.ipynb",
      "provenance": []
    },
    "kernelspec": {
      "display_name": "Python 3",
      "language": "python",
      "name": "python3"
    },
    "language_info": {
      "codemirror_mode": {
        "name": "ipython",
        "version": 3
      },
      "file_extension": ".py",
      "mimetype": "text/x-python",
      "name": "python",
      "nbconvert_exporter": "python",
      "pygments_lexer": "ipython3",
      "version": "3.8.5"
    }
  },
  "nbformat": 4,
  "nbformat_minor": 0
}