{
 "cells": [
  {
   "cell_type": "code",
   "execution_count": 13,
   "metadata": {},
   "outputs": [
    {
     "data": {
      "text/plain": [
       "['한솔로지스틱스.csv',\n",
       " '플레이그램.csv',\n",
       " '카카오.csv',\n",
       " 'SNT홀딩스.csv',\n",
       " '현대중공업지주.csv',\n",
       " '호텔신라.csv',\n",
       " '대한제분.csv',\n",
       " 'AJ네트웍스.csv',\n",
       " '한국ANKOR유전.csv',\n",
       " '선진.csv']"
      ]
     },
     "execution_count": 13,
     "metadata": {},
     "output_type": "execute_result"
    }
   ],
   "source": [
    "from os import listdir\n",
    "from os.path import isfile, join\n",
    "import os\n",
    "mypath='data/raw'\n",
    "\n",
    "onlyfiles = [f for f in listdir(mypath) if isfile(join(mypath, f))]\n",
    "\n",
    "dic={}\n",
    "\n",
    "for name in onlyfiles:\n",
    "    dic[name]=os.path.getsize(mypath+\"/\"+name)\n",
    "\n",
    "from random import choices\n",
    "\n",
    "choices(onlyfiles, k=10)"
   ]
  },
  {
   "cell_type": "code",
   "execution_count": 14,
   "metadata": {},
   "outputs": [
    {
     "name": "stdout",
     "output_type": "stream",
     "text": [
      "계룡건설산업.csv 345179\n",
      "웅진.csv 395891\n",
      "현대코퍼레이션.csv 459283\n",
      "삼성바이오로직스.csv 76075\n",
      "비비안.csv 333468\n",
      "효성화학.csv 51556\n",
      "KG케미칼.csv 377082\n",
      "지코.csv 506307\n",
      "삼성제약.csv 515714\n",
      "엠씨넥스.csv 4538\n"
     ]
    }
   ],
   "source": [
    "for name in choices(onlyfiles, k=10):\n",
    "    print(name, os.path.getsize(mypath+\"/\"+name))"
   ]
  },
  {
   "cell_type": "code",
   "execution_count": null,
   "metadata": {},
   "outputs": [],
   "source": []
  },
  {
   "cell_type": "code",
   "execution_count": 17,
   "metadata": {},
   "outputs": [
    {
     "data": {
      "image/png": "[encoded data removed]",
      "text/plain": [
       "<Figure size 432x288 with 1 Axes>"
      ]
     },
     "metadata": {
      "needs_background": "light"
     },
     "output_type": "display_data"
    }
   ],
   "source": [
    "import matplotlib.pyplot as plt\n",
    "\n",
    "x = dic.values()\n",
    "plt.hist(x, bins=10)\n",
    "plt.show()"
   ]
  },
  {
   "cell_type": "code",
   "execution_count": 18,
   "metadata": {},
   "outputs": [],
   "source": [
    "from os import listdir\n",
    "from os.path import isfile, join\n",
    "import os\n",
    "mypath='data/aside'\n",
    "\n",
    "onlyfiles = [f for f in listdir(mypath) if isfile(join(mypath, f))]"
   ]
  },
  {
   "cell_type": "code",
   "execution_count": 22,
   "metadata": {},
   "outputs": [
    {
     "name": "stdout",
     "output_type": "stream",
     "text": [
      "DRB동일.csv 527911\n",
      "KEC.csv 317375\n",
      "SK아이이테크놀로지.csv 7429\n",
      "기신정기.csv 212066\n",
      "동양피스톤.csv 56916\n",
      "두산퓨얼셀.csv 35071\n",
      "디와이파워.csv 104639\n",
      "삼아알미늄.csv 415015\n",
      "크래프톤.csv 3388\n",
      "티와이홀딩스.csv 15652\n",
      "화승코퍼레이션.csv 572535\n"
     ]
    }
   ],
   "source": [
    "for name in onlyfiles:\n",
    "    print(name, os.path.getsize(mypath+\"/\"+name))"
   ]
  },
  {
   "cell_type": "code",
   "execution_count": null,
   "metadata": {},
   "outputs": [],
   "source": []
  }
 ],
 "metadata": {
  "kernelspec": {
   "display_name": "Python 3",
   "language": "python",
   "name": "python3"
  },
  "language_info": {
   "codemirror_mode": {
    "name": "ipython",
    "version": 3
   },
   "file_extension": ".py",
   "mimetype": "text/x-python",
   "name": "python",
   "nbconvert_exporter": "python",
   "pygments_lexer": "ipython3",
   "version": "3.8.5"
  }
 },
 "nbformat": 4,
 "nbformat_minor": 4
}
