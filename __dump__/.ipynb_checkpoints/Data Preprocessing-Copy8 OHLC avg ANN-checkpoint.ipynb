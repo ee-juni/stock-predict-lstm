{
 "cells": [
  {
   "cell_type": "code",
   "execution_count": 30,
   "metadata": {},
   "outputs": [],
   "source": [
    "import pandas as pd\n",
    "import numpy as np\n",
    "import csv\n",
    "\n",
    "df = pd.read_csv('nasdaq/AppleInc.csv', index_col = 'Date', parse_dates=True)\n",
    "iter_len = len(df['Close'])\n",
    "\n",
    "\n",
    "# Labeling: increase = 1, decrease = -1\n",
    "\n",
    "with open('Apple.csv', 'w', newline='') as f:\n",
    "    wt = csv.writer(f)\n",
    "    wt.writerow(['avg'])\n",
    "    #wt.writerow(\"Date,Open,High,Low,Close,Adj Close,Volume,Label\".split(\",\"))\n",
    "    for i in range(iter_len):\n",
    "        line1 = df.iloc[i]\n",
    "        a1 = (line1['Open']+line1['High']+line1['Low']+line1['Close'])/4\n",
    "        wt.writerow([a1])"
   ]
  },
  {
   "cell_type": "code",
   "execution_count": 31,
   "metadata": {},
   "outputs": [],
   "source": [
    "df = pd.read_csv('Apple.csv')['avg']\n",
    "iter_len = len(df)\n",
    "\n",
    "\n",
    "with open('Apple-1.csv', 'w', newline='') as f:\n",
    "    wt = csv.writer(f)\n",
    "    wt.writerow(\"1,2,3,4,5,6,7,8,9,10,11,12,13,14,15,16,17,18,19,20,label\".split(\",\"))\n",
    "    for i in range(iter_len-21):\n",
    "        line1 = [df.iloc[j] for j in range(i,i+20)]\n",
    "        M=max(line1)\n",
    "        m=min(line1)\n",
    "        new_line = [(x-m)/(M-m) for x in line1]\n",
    "        if ( df.iloc[i+19] < df.iloc[i+20] ):\n",
    "            new_line.append(1)\n",
    "        else: new_line.append(0)\n",
    "        wt.writerow(new_line)\n"
   ]
  },
  {
   "cell_type": "code",
   "execution_count": 32,
   "metadata": {},
   "outputs": [
    {
     "name": "stdout",
     "output_type": "stream",
     "text": [
      "              1         2         3         4         5         6         7  \\\n",
      "0      0.323616  0.186598  0.000000  0.055390  0.125378  0.276971  0.405249   \n",
      "1      0.186598  0.000000  0.055390  0.125378  0.276971  0.405249  0.521875   \n",
      "2      0.000000  0.055390  0.125378  0.276971  0.405249  0.521875  0.673469   \n",
      "3      0.000000  0.074091  0.234574  0.370374  0.493839  0.654322  0.950621   \n",
      "4      0.000000  0.173325  0.319991  0.453335  0.626661  0.946669  1.000000   \n",
      "...         ...       ...       ...       ...       ...       ...       ...   \n",
      "10282  0.720465  0.703338  0.558491  0.296662  0.301887  0.274021  0.150943   \n",
      "10283  0.703338  0.558491  0.296662  0.301887  0.274021  0.150943  0.000000   \n",
      "10284  0.537130  0.285316  0.290340  0.263540  0.145170  0.000000  0.022892   \n",
      "10285  0.285316  0.290340  0.263540  0.145170  0.000000  0.022892  0.017029   \n",
      "10286  0.280172  0.254310  0.140086  0.000000  0.022091  0.016433  0.320851   \n",
      "\n",
      "              8         9        10  ...        12        13        14  \\\n",
      "0      0.521875  0.673469  0.953356  ...  0.921288  0.827999  0.862982   \n",
      "1      0.673469  0.953356  1.000000  ...  0.827999  0.862982  0.793016   \n",
      "2      0.953356  1.000000  0.921288  ...  0.862982  0.793016  0.653062   \n",
      "3      1.000000  0.916672  0.817913  ...  0.780879  0.632718  0.496925   \n",
      "4      0.910004  0.803343  0.843341  ...  0.603328  0.456669  0.390005   \n",
      "...         ...       ...       ...  ...       ...       ...       ...   \n",
      "10282  0.000000  0.023803  0.017706  ...  0.356748  0.299565  0.222060   \n",
      "10283  0.023803  0.017706  0.345718  ...  0.299565  0.222060  0.039768   \n",
      "10284  0.017029  0.332496  0.343104  ...  0.213567  0.038247  0.275823   \n",
      "10285  0.332496  0.343104  0.288107  ...  0.038247  0.275823  0.436627   \n",
      "10286  0.331088  0.278017  0.206088  ...  0.266164  0.421336  0.501616   \n",
      "\n",
      "             15        16        17        18        19        20  label  \n",
      "0      0.793016  0.653062  0.524790  0.466485  0.615164  0.600587      0  \n",
      "1      0.653062  0.524790  0.466485  0.615164  0.600587  0.489807      1  \n",
      "2      0.524790  0.466485  0.615164  0.600587  0.489807  0.498553      1  \n",
      "3      0.435201  0.592597  0.577166  0.459890  0.469149  0.533960      0  \n",
      "4      0.559997  0.543331  0.416671  0.426670  0.496667  0.470001      1  \n",
      "...         ...       ...       ...       ...       ...       ...    ...  \n",
      "10282  0.039768  0.286792  0.453991  0.540494  0.874020  1.000000      0  \n",
      "10283  0.286792  0.453991  0.540494  0.874020  1.000000  0.999129      1  \n",
      "10284  0.436627  0.519821  0.840592  0.961753  0.960915  1.000000      0  \n",
      "10285  0.519821  0.840592  0.961753  0.960915  1.000000  0.919318      1  \n",
      "10286  0.811153  0.928071  0.927263  0.964978  0.887122  1.000000      0  \n",
      "\n",
      "[10287 rows x 21 columns]\n"
     ]
    },
    {
     "data": {
      "text/plain": [
       "\"\\nimport matplotlib.pyplot as plt\\ndf = pd.read_csv('Apple.csv')\\nplt.style.use('ggplot')\\ndf['avg'].plot(label='CLOSE', title='Apple Inc. OHLC avg')\""
      ]
     },
     "execution_count": 32,
     "metadata": {},
     "output_type": "execute_result"
    }
   ],
   "source": [
    "df = pd.read_csv('Apple-1.csv')\n",
    "print(df)\n",
    "'''\n",
    "import matplotlib.pyplot as plt\n",
    "df = pd.read_csv('Apple.csv')\n",
    "plt.style.use('ggplot')\n",
    "df['avg'].plot(label='CLOSE', title='Apple Inc. OHLC avg')'''"
   ]
  },
  {
   "cell_type": "code",
   "execution_count": 33,
   "metadata": {},
   "outputs": [],
   "source": [
    "X = df.iloc[:, :-1]\n",
    "y = df.iloc[:, -1] "
   ]
  },
  {
   "cell_type": "code",
   "execution_count": 25,
   "metadata": {},
   "outputs": [],
   "source": [
    "from sklearn.preprocessing import StandardScaler, MinMaxScaler\n",
    "mm = MinMaxScaler()\n",
    "ss = StandardScaler()\n",
    "\n",
    "\n",
    "X_ss = mm.fit_transform(X)\n",
    "#y_mm = mm.fit_transform(y)"
   ]
  },
  {
   "cell_type": "code",
   "execution_count": 26,
   "metadata": {},
   "outputs": [
    {
     "data": {
      "text/plain": [
       "array([[5.07783102e-04, 4.65694440e-04, 4.08375714e-04, ...,\n",
       "        5.51669289e-04, 5.97339993e-04, 5.92862488e-04],\n",
       "       [4.65694440e-04, 4.08375714e-04, 4.25390295e-04, ...,\n",
       "        5.97339993e-04, 5.92862488e-04, 5.58833326e-04],\n",
       "       [4.08375714e-04, 4.25390295e-04, 4.46888850e-04, ...,\n",
       "        5.92862488e-04, 5.58833326e-04, 5.61519857e-04],\n",
       "       ...,\n",
       "       [9.31489113e-01, 9.17013388e-01, 9.17302249e-01, ...,\n",
       "        9.55898794e-01, 9.55850650e-01, 9.58097450e-01],\n",
       "       [9.17013388e-01, 9.17302249e-01, 9.15761609e-01, ...,\n",
       "        9.55850650e-01, 9.58097450e-01, 9.53459420e-01],\n",
       "       [9.17302249e-01, 9.15761609e-01, 9.08957026e-01, ...,\n",
       "        9.58097450e-01, 9.53459420e-01, 9.60183756e-01]])"
      ]
     },
     "execution_count": 26,
     "metadata": {},
     "output_type": "execute_result"
    }
   ],
   "source": [
    "X_ss"
   ]
  },
  {
   "cell_type": "code",
   "execution_count": 37,
   "metadata": {},
   "outputs": [],
   "source": [
    "X_train = X_ss[:9000, :]\n",
    "X_test = X_ss[9000:, :]\n",
    "\n",
    "y_train = y_mm[:9000, :]\n",
    "y_test = y_mm[9000:, :] "
   ]
  },
  {
   "cell_type": "code",
   "execution_count": 38,
   "metadata": {},
   "outputs": [
    {
     "name": "stdout",
     "output_type": "stream",
     "text": [
      "Training Shape (9000, 6) (9000, 1)\n",
      "Testing Shape (1307, 6) (1307, 1)\n"
     ]
    }
   ],
   "source": [
    "print(\"Training Shape\", X_train.shape, y_train.shape)\n",
    "print(\"Testing Shape\", X_test.shape, y_test.shape) "
   ]
  },
  {
   "cell_type": "code",
   "execution_count": 39,
   "metadata": {},
   "outputs": [],
   "source": [
    "import torch #pytorch\n",
    "import torch.nn as nn\n",
    "from torch.autograd import Variable "
   ]
  },
  {
   "cell_type": "code",
   "execution_count": 40,
   "metadata": {},
   "outputs": [],
   "source": [
    "X_train_tensors = Variable(torch.Tensor(X_train))\n",
    "X_test_tensors = Variable(torch.Tensor(X_test))\n",
    "\n",
    "y_train_tensors = Variable(torch.Tensor(y_train))\n",
    "y_test_tensors = Variable(torch.Tensor(y_test)) "
   ]
  },
  {
   "cell_type": "code",
   "execution_count": 41,
   "metadata": {},
   "outputs": [],
   "source": [
    "X_train_tensors_final = torch.reshape(X_train_tensors,   (X_train_tensors.shape[0], 1, X_train_tensors.shape[1]))\n",
    "\n",
    "\n",
    "X_test_tensors_final = torch.reshape(X_test_tensors,  (X_test_tensors.shape[0], 1, X_test_tensors.shape[1])) "
   ]
  },
  {
   "cell_type": "code",
   "execution_count": 42,
   "metadata": {},
   "outputs": [],
   "source": [
    "class LSTM1(nn.Module):\n",
    "    def __init__(self, num_classes, input_size, hidden_size, num_layers, seq_length):\n",
    "        super(LSTM1, self).__init__()\n",
    "        self.num_classes = num_classes #number of classes\n",
    "        self.num_layers = num_layers #number of layers\n",
    "        self.input_size = input_size #input size\n",
    "        self.hidden_size = hidden_size #hidden state\n",
    "        self.seq_length = seq_length #sequence length\n",
    "\n",
    "        self.lstm = nn.LSTM(input_size=input_size, hidden_size=hidden_size,\n",
    "                          num_layers=num_layers, batch_first=True) #lstm\n",
    "        self.fc_1 =  nn.Linear(hidden_size, 128) #fully connected 1\n",
    "        self.fc = nn.Linear(128, num_classes) #fully connected last layer\n",
    "\n",
    "        self.relu = nn.ReLU()\n",
    "    \n",
    "    def forward(self,x):\n",
    "        h_0 = Variable(torch.zeros(self.num_layers, x.size(0), self.hidden_size)) #hidden state\n",
    "        c_0 = Variable(torch.zeros(self.num_layers, x.size(0), self.hidden_size)) #internal state\n",
    "        # Propagate input through LSTM\n",
    "        output, (hn, cn) = self.lstm(x, (h_0, c_0)) #lstm with input, hidden, and internal state\n",
    "        hn = hn.view(-1, self.hidden_size) #reshaping the data for Dense layer next\n",
    "        out = self.relu(hn)\n",
    "        out = self.fc_1(out) #first Dense\n",
    "        out = self.relu(out) #relu\n",
    "        out = self.fc(out) #Final Output\n",
    "        return out"
   ]
  },
  {
   "cell_type": "code",
   "execution_count": 43,
   "metadata": {},
   "outputs": [],
   "source": [
    "num_epochs = 10000 #1000 epochs\n",
    "learning_rate = 0.001 #0.001 lr\n",
    "\n",
    "input_size = 2 #number of features\n",
    "hidden_size = 2 #number of features in hidden state\n",
    "num_layers = 1 #number of stacked lstm layers\n",
    "\n",
    "num_classes = 1 #number of output classes "
   ]
  },
  {
   "cell_type": "code",
   "execution_count": 44,
   "metadata": {},
   "outputs": [],
   "source": [
    "lstm1 = LSTM1(num_classes, input_size, hidden_size, num_layers, X_train_tensors_final.shape[1]) #our lstm class "
   ]
  },
  {
   "cell_type": "code",
   "execution_count": 45,
   "metadata": {},
   "outputs": [],
   "source": [
    "criterion = torch.nn.MSELoss()    # mean-squared error for regression\n",
    "optimizer = torch.optim.Adam(lstm1.parameters(), lr=learning_rate) "
   ]
  },
  {
   "cell_type": "code",
   "execution_count": 46,
   "metadata": {},
   "outputs": [
    {
     "name": "stderr",
     "output_type": "stream",
     "text": [
      "C:\\Users\\juni\\anaconda3\\lib\\site-packages\\torch\\nn\\modules\\loss.py:528: UserWarning: Using a target size (torch.Size([9000, 1])) that is different to the input size (torch.Size([9000, 2])). This will likely lead to incorrect results due to broadcasting. Please ensure they have the same size.\n",
      "  return F.mse_loss(input, target, reduction=self.reduction)\n"
     ]
    },
    {
     "name": "stdout",
     "output_type": "stream",
     "text": [
      "Epoch: 0, loss: nan\n",
      "Epoch: 100, loss: nan\n",
      "Epoch: 200, loss: nan\n"
     ]
    },
    {
     "ename": "KeyboardInterrupt",
     "evalue": "",
     "output_type": "error",
     "traceback": [
      "\u001b[1;31m---------------------------------------------------------------------------\u001b[0m",
      "\u001b[1;31mKeyboardInterrupt\u001b[0m                         Traceback (most recent call last)",
      "\u001b[1;32m<ipython-input-46-b078da3eef97>\u001b[0m in \u001b[0;36m<module>\u001b[1;34m\u001b[0m\n\u001b[0;32m      6\u001b[0m     \u001b[0mloss\u001b[0m \u001b[1;33m=\u001b[0m \u001b[0mcriterion\u001b[0m\u001b[1;33m(\u001b[0m\u001b[0moutputs\u001b[0m\u001b[1;33m,\u001b[0m \u001b[0my_train_tensors\u001b[0m\u001b[1;33m)\u001b[0m\u001b[1;33m\u001b[0m\u001b[1;33m\u001b[0m\u001b[0m\n\u001b[0;32m      7\u001b[0m \u001b[1;33m\u001b[0m\u001b[0m\n\u001b[1;32m----> 8\u001b[1;33m     \u001b[0mloss\u001b[0m\u001b[1;33m.\u001b[0m\u001b[0mbackward\u001b[0m\u001b[1;33m(\u001b[0m\u001b[1;33m)\u001b[0m \u001b[1;31m#calculates the loss of the loss function\u001b[0m\u001b[1;33m\u001b[0m\u001b[1;33m\u001b[0m\u001b[0m\n\u001b[0m\u001b[0;32m      9\u001b[0m \u001b[1;33m\u001b[0m\u001b[0m\n\u001b[0;32m     10\u001b[0m     \u001b[0moptimizer\u001b[0m\u001b[1;33m.\u001b[0m\u001b[0mstep\u001b[0m\u001b[1;33m(\u001b[0m\u001b[1;33m)\u001b[0m \u001b[1;31m#improve from loss, i.e backprop\u001b[0m\u001b[1;33m\u001b[0m\u001b[1;33m\u001b[0m\u001b[0m\n",
      "\u001b[1;32m~\\anaconda3\\lib\\site-packages\\torch\\tensor.py\u001b[0m in \u001b[0;36mbackward\u001b[1;34m(self, gradient, retain_graph, create_graph, inputs)\u001b[0m\n\u001b[0;32m    243\u001b[0m                 \u001b[0mcreate_graph\u001b[0m\u001b[1;33m=\u001b[0m\u001b[0mcreate_graph\u001b[0m\u001b[1;33m,\u001b[0m\u001b[1;33m\u001b[0m\u001b[1;33m\u001b[0m\u001b[0m\n\u001b[0;32m    244\u001b[0m                 inputs=inputs)\n\u001b[1;32m--> 245\u001b[1;33m         \u001b[0mtorch\u001b[0m\u001b[1;33m.\u001b[0m\u001b[0mautograd\u001b[0m\u001b[1;33m.\u001b[0m\u001b[0mbackward\u001b[0m\u001b[1;33m(\u001b[0m\u001b[0mself\u001b[0m\u001b[1;33m,\u001b[0m \u001b[0mgradient\u001b[0m\u001b[1;33m,\u001b[0m \u001b[0mretain_graph\u001b[0m\u001b[1;33m,\u001b[0m \u001b[0mcreate_graph\u001b[0m\u001b[1;33m,\u001b[0m \u001b[0minputs\u001b[0m\u001b[1;33m=\u001b[0m\u001b[0minputs\u001b[0m\u001b[1;33m)\u001b[0m\u001b[1;33m\u001b[0m\u001b[1;33m\u001b[0m\u001b[0m\n\u001b[0m\u001b[0;32m    246\u001b[0m \u001b[1;33m\u001b[0m\u001b[0m\n\u001b[0;32m    247\u001b[0m     \u001b[1;32mdef\u001b[0m \u001b[0mregister_hook\u001b[0m\u001b[1;33m(\u001b[0m\u001b[0mself\u001b[0m\u001b[1;33m,\u001b[0m \u001b[0mhook\u001b[0m\u001b[1;33m)\u001b[0m\u001b[1;33m:\u001b[0m\u001b[1;33m\u001b[0m\u001b[1;33m\u001b[0m\u001b[0m\n",
      "\u001b[1;32m~\\anaconda3\\lib\\site-packages\\torch\\autograd\\__init__.py\u001b[0m in \u001b[0;36mbackward\u001b[1;34m(tensors, grad_tensors, retain_graph, create_graph, grad_variables, inputs)\u001b[0m\n\u001b[0;32m    143\u001b[0m         \u001b[0mretain_graph\u001b[0m \u001b[1;33m=\u001b[0m \u001b[0mcreate_graph\u001b[0m\u001b[1;33m\u001b[0m\u001b[1;33m\u001b[0m\u001b[0m\n\u001b[0;32m    144\u001b[0m \u001b[1;33m\u001b[0m\u001b[0m\n\u001b[1;32m--> 145\u001b[1;33m     Variable._execution_engine.run_backward(\n\u001b[0m\u001b[0;32m    146\u001b[0m         \u001b[0mtensors\u001b[0m\u001b[1;33m,\u001b[0m \u001b[0mgrad_tensors_\u001b[0m\u001b[1;33m,\u001b[0m \u001b[0mretain_graph\u001b[0m\u001b[1;33m,\u001b[0m \u001b[0mcreate_graph\u001b[0m\u001b[1;33m,\u001b[0m \u001b[0minputs\u001b[0m\u001b[1;33m,\u001b[0m\u001b[1;33m\u001b[0m\u001b[1;33m\u001b[0m\u001b[0m\n\u001b[0;32m    147\u001b[0m         allow_unreachable=True, accumulate_grad=True)  # allow_unreachable flag\n",
      "\u001b[1;31mKeyboardInterrupt\u001b[0m: "
     ]
    }
   ],
   "source": [
    "for epoch in range(num_epochs):\n",
    "    outputs = lstm1.forward(X_train_tensors_final) #forward pass\n",
    "    optimizer.zero_grad() #caluclate the gradient, manually setting to 0\n",
    "\n",
    "    # obtain the loss function\n",
    "    loss = criterion(outputs, y_train_tensors)\n",
    "\n",
    "    loss.backward() #calculates the loss of the loss function\n",
    "\n",
    "    optimizer.step() #improve from loss, i.e backprop\n",
    "    if epoch % 100 == 0:\n",
    "        print(\"Epoch: %d, loss: %1.5f\" % (epoch, loss.item())) "
   ]
  },
  {
   "cell_type": "code",
   "execution_count": 31,
   "metadata": {},
   "outputs": [],
   "source": [
    "df_X_ss = ss.transform(df.iloc[:, :-1]) #old transformers\n",
    "df_y_mm = mm.transform(df.iloc[:, -1:]) #old transformers\n",
    "\n",
    "df_X_ss = Variable(torch.Tensor(df_X_ss)) #converting to Tensors\n",
    "df_y_mm = Variable(torch.Tensor(df_y_mm))\n",
    "#reshaping the dataset\n",
    "df_X_ss = torch.reshape(df_X_ss, (df_X_ss.shape[0], 1, df_X_ss.shape[1])) "
   ]
  },
  {
   "cell_type": "code",
   "execution_count": 32,
   "metadata": {},
   "outputs": [
    {
     "data": {
      "image/png": "[encoded data removed]",
      "text/plain": [
       "<Figure size 720x432 with 1 Axes>"
      ]
     },
     "metadata": {},
     "output_type": "display_data"
    }
   ],
   "source": [
    "train_predict = lstm1(df_X_ss)#forward pass\n",
    "data_predict = train_predict.data.numpy() #numpy conversion\n",
    "dataY_plot = df_y_mm.data.numpy()\n",
    "\n",
    "data_predict = mm.inverse_transform(data_predict) #reverse transformation\n",
    "dataY_plot = mm.inverse_transform(dataY_plot)\n",
    "plt.figure(figsize=(10,6)) #plotting\n",
    "plt.axvline(x=200, c='r', linestyle='--') #size of the training set\n",
    "\n",
    "plt.plot(dataY_plot, label='Actuall Data') #actual plot\n",
    "plt.plot(data_predict, label='Predicted Data') #predicted plot\n",
    "plt.title('Time-Series Prediction')\n",
    "plt.legend()\n",
    "plt.show() "
   ]
  },
  {
   "cell_type": "code",
   "execution_count": null,
   "metadata": {},
   "outputs": [],
   "source": []
  }
 ],
 "metadata": {
  "kernelspec": {
   "display_name": "Python 3",
   "language": "python",
   "name": "python3"
  },
  "language_info": {
   "codemirror_mode": {
    "name": "ipython",
    "version": 3
   },
   "file_extension": ".py",
   "mimetype": "text/x-python",
   "name": "python",
   "nbconvert_exporter": "python",
   "pygments_lexer": "ipython3",
   "version": "3.8.5"
  }
 },
 "nbformat": 4,
 "nbformat_minor": 4
}
