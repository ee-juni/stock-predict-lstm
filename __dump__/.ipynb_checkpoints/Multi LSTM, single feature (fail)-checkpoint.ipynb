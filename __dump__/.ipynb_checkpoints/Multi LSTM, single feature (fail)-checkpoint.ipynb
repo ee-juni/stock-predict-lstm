{
 "cells": [
  {
   "cell_type": "code",
   "execution_count": 53,
   "metadata": {},
   "outputs": [],
   "source": [
    "import numpy as np\n",
    "import pandas as pd\n",
    "import pandas_datareader.data as pdr\n",
    "import matplotlib.pyplot as plt\n",
    "import datetime\n",
    "import torch\n",
    "import torch.nn as nn\n",
    "from torch.autograd import Variable\n",
    "import torch.optim as optim\n",
    "from torch.utils.data import Dataset, DataLoader"
   ]
  },
  {
   "cell_type": "code",
   "execution_count": 54,
   "metadata": {},
   "outputs": [],
   "source": [
    "num=3\n",
    "fn = ['DRB동일.csv', 'KEC.csv', 'SK아이이테크놀로지.csv', '기신정기.csv', '동양피스톤.csv', '두산퓨얼셀.csv', '디와이파워.csv', '삼아알미늄.csv', '티와이홀딩스.csv', '화승코퍼레이션.csv']\n",
    "\n",
    "df = pd.read_csv('data/aside/'+fn[num], index_col = 'Date', parse_dates=True)\n",
    "df['Mid']=(df['Low']+df['High'])/2\n",
    "\n",
    "cut_line = len(df['Mid'])-round(len(df['Mid'])/10)\n",
    "\n",
    "train_data = df['Mid'].values[:cut_line].reshape(1,-1)\n",
    "test_data = df['Mid'].values[cut_line:].reshape(1,-1)\n",
    "\n",
    "from sklearn.preprocessing import MinMaxScaler\n",
    "mm = MinMaxScaler()\n",
    "train_data = mm.fit_transform(train_data)\n",
    "test_data = mm.fit_transform(test_data)"
   ]
  },
  {
   "cell_type": "code",
   "execution_count": 55,
   "metadata": {
    "scrolled": true
   },
   "outputs": [],
   "source": [
    "def create_seq(data, seq_length):\n",
    "    x = []\n",
    "    y = []\n",
    "    for i in range(len(data)-seq_length):\n",
    "        x.append(data[i:i+seq_length])\n",
    "        y.append(data[i+seq_length])\n",
    "    x = np.array(x)\n",
    "    y = np.array(y)\n",
    "    return x, y"
   ]
  },
  {
   "cell_type": "code",
   "execution_count": 56,
   "metadata": {},
   "outputs": [],
   "source": [
    "x_train, y_train = create_seq(train_data, 7)\n",
    "x_test, y_test = create_seq(test_data, 7)"
   ]
  },
  {
   "cell_type": "code",
   "execution_count": 57,
   "metadata": {},
   "outputs": [],
   "source": [
    "x_train, y_train, x_test, y_test = map(lambda data:torch.from_numpy(data).float(), [x_train, y_train, x_test, y_test])"
   ]
  },
  {
   "cell_type": "code",
   "execution_count": 58,
   "metadata": {},
   "outputs": [],
   "source": [
    "device = torch.device(\"cuda:0\" if torch.cuda.is_available() else \"cpu\") # device"
   ]
  },
  {
   "cell_type": "code",
   "execution_count": 59,
   "metadata": {},
   "outputs": [],
   "source": [
    "class LSTM1(nn.Module):\n",
    "    def __init__(self, input_size, hidden_size, num_layers, seq_len):\n",
    "        super(LSTM1, self).__init__()\n",
    "        self.num_layers = num_layers #number of layers \n",
    "        self.input_size = input_size #input size (number of features)\n",
    "        self.hidden_size = hidden_size #hidden state \n",
    "        self.seq_len = seq_len #sequence length \n",
    "        self.lstm = nn.LSTM(input_size=input_size, hidden_size=hidden_size, num_layers=num_layers, batch_first=True) #lstm \n",
    "        self.fc = nn.Linear(self.hidden_size, 1) #fully connected last layer \n",
    "\n",
    "    def forward(self,x):\n",
    "        h_0 = Variable(torch.zeros(self.num_layers, self.seq_len, self.hidden_size)).to(device) #hidden state \n",
    "        c_0 = Variable(torch.zeros(self.num_layers, self.seq_len, self.hidden_size)).to(device) #internal state \n",
    "        # Propagate input through LSTM \n",
    "\n",
    "        lstm_out, (hn, cn) = self.lstm(x.view(len(x), self.seq_len, -1), (h_0, c_0)) #lstm with input, hidden, and internal state \n",
    "        lstm_last = lstm_out.view(self.seq_len, len(x), self.hidden_size)[-1]\n",
    "        out = self.fc(lstm_last)\n",
    "\n",
    "        return out"
   ]
  },
  {
   "cell_type": "code",
   "execution_count": 60,
   "metadata": {},
   "outputs": [],
   "source": [
    "num_epochs = 5000 #seems to converge at 10000 for 화송코퍼레이션\n",
    "learning_rate = 0.001\n",
    "\n",
    "input_size = 1 #number of features\n",
    "hidden_size = 2 #number of features in hidden state\n",
    "num_layers = 1 #number of stacked lstm layers\n",
    "seq_len = 7\n",
    "\n",
    "lstm1 = LSTM1(input_size, hidden_size, num_layers, seq_len).to(device)\n",
    "\n",
    "loss_function = torch.nn.MSELoss()    # mean-squared error for regression\n",
    "optimizer = torch.optim.Adam(lstm1.parameters(), lr=learning_rate)  # adam optimizer\n"
   ]
  },
  {
   "cell_type": "code",
   "execution_count": 61,
   "metadata": {},
   "outputs": [
    {
     "ename": "RuntimeError",
     "evalue": "cannot reshape tensor of 0 elements into shape [0, 7, -1] because the unspecified dimension size -1 can be any value and is ambiguous",
     "output_type": "error",
     "traceback": [
      "\u001b[1;31m---------------------------------------------------------------------------\u001b[0m",
      "\u001b[1;31mRuntimeError\u001b[0m                              Traceback (most recent call last)",
      "\u001b[1;32m<ipython-input-61-f1574e2a7852>\u001b[0m in \u001b[0;36m<module>\u001b[1;34m\u001b[0m\n\u001b[0;32m      1\u001b[0m \u001b[1;32mfor\u001b[0m \u001b[0mepoch\u001b[0m \u001b[1;32min\u001b[0m \u001b[0mrange\u001b[0m\u001b[1;33m(\u001b[0m\u001b[0mnum_epochs\u001b[0m\u001b[1;33m)\u001b[0m\u001b[1;33m:\u001b[0m\u001b[1;33m\u001b[0m\u001b[1;33m\u001b[0m\u001b[0m\n\u001b[1;32m----> 2\u001b[1;33m     \u001b[0moutputs\u001b[0m \u001b[1;33m=\u001b[0m \u001b[0mlstm1\u001b[0m\u001b[1;33m.\u001b[0m\u001b[0mforward\u001b[0m\u001b[1;33m(\u001b[0m\u001b[0mx_train\u001b[0m\u001b[1;33m)\u001b[0m \u001b[1;31m#forward pass\u001b[0m\u001b[1;33m\u001b[0m\u001b[1;33m\u001b[0m\u001b[0m\n\u001b[0m\u001b[0;32m      3\u001b[0m     \u001b[0moptimizer\u001b[0m\u001b[1;33m.\u001b[0m\u001b[0mzero_grad\u001b[0m\u001b[1;33m(\u001b[0m\u001b[1;33m)\u001b[0m \u001b[1;31m#caluclate the gradient, manually setting to 0\u001b[0m\u001b[1;33m\u001b[0m\u001b[1;33m\u001b[0m\u001b[0m\n\u001b[0;32m      4\u001b[0m     \u001b[1;31m# obtain the loss function\u001b[0m\u001b[1;33m\u001b[0m\u001b[1;33m\u001b[0m\u001b[1;33m\u001b[0m\u001b[0m\n\u001b[0;32m      5\u001b[0m     \u001b[0mloss\u001b[0m \u001b[1;33m=\u001b[0m \u001b[0mloss_function\u001b[0m\u001b[1;33m(\u001b[0m\u001b[0moutputs\u001b[0m\u001b[1;33m,\u001b[0m \u001b[0my_train\u001b[0m\u001b[1;33m)\u001b[0m\u001b[1;33m\u001b[0m\u001b[1;33m\u001b[0m\u001b[0m\n",
      "\u001b[1;32m<ipython-input-59-07f1b5c55c30>\u001b[0m in \u001b[0;36mforward\u001b[1;34m(self, x)\u001b[0m\n\u001b[0;32m     14\u001b[0m         \u001b[1;31m# Propagate input through LSTM\u001b[0m\u001b[1;33m\u001b[0m\u001b[1;33m\u001b[0m\u001b[1;33m\u001b[0m\u001b[0m\n\u001b[0;32m     15\u001b[0m \u001b[1;33m\u001b[0m\u001b[0m\n\u001b[1;32m---> 16\u001b[1;33m         \u001b[0mlstm_out\u001b[0m\u001b[1;33m,\u001b[0m \u001b[1;33m(\u001b[0m\u001b[0mhn\u001b[0m\u001b[1;33m,\u001b[0m \u001b[0mcn\u001b[0m\u001b[1;33m)\u001b[0m \u001b[1;33m=\u001b[0m \u001b[0mself\u001b[0m\u001b[1;33m.\u001b[0m\u001b[0mlstm\u001b[0m\u001b[1;33m(\u001b[0m\u001b[0mx\u001b[0m\u001b[1;33m.\u001b[0m\u001b[0mview\u001b[0m\u001b[1;33m(\u001b[0m\u001b[0mlen\u001b[0m\u001b[1;33m(\u001b[0m\u001b[0mx\u001b[0m\u001b[1;33m)\u001b[0m\u001b[1;33m,\u001b[0m \u001b[0mself\u001b[0m\u001b[1;33m.\u001b[0m\u001b[0mseq_len\u001b[0m\u001b[1;33m,\u001b[0m \u001b[1;33m-\u001b[0m\u001b[1;36m1\u001b[0m\u001b[1;33m)\u001b[0m\u001b[1;33m,\u001b[0m \u001b[1;33m(\u001b[0m\u001b[0mh_0\u001b[0m\u001b[1;33m,\u001b[0m \u001b[0mc_0\u001b[0m\u001b[1;33m)\u001b[0m\u001b[1;33m)\u001b[0m \u001b[1;31m#lstm with input, hidden, and internal state\u001b[0m\u001b[1;33m\u001b[0m\u001b[1;33m\u001b[0m\u001b[0m\n\u001b[0m\u001b[0;32m     17\u001b[0m         \u001b[0mlstm_last\u001b[0m \u001b[1;33m=\u001b[0m \u001b[0mlstm_out\u001b[0m\u001b[1;33m.\u001b[0m\u001b[0mview\u001b[0m\u001b[1;33m(\u001b[0m\u001b[0mself\u001b[0m\u001b[1;33m.\u001b[0m\u001b[0mseq_len\u001b[0m\u001b[1;33m,\u001b[0m \u001b[0mlen\u001b[0m\u001b[1;33m(\u001b[0m\u001b[0mx\u001b[0m\u001b[1;33m)\u001b[0m\u001b[1;33m,\u001b[0m \u001b[0mself\u001b[0m\u001b[1;33m.\u001b[0m\u001b[0mhidden_size\u001b[0m\u001b[1;33m)\u001b[0m\u001b[1;33m[\u001b[0m\u001b[1;33m-\u001b[0m\u001b[1;36m1\u001b[0m\u001b[1;33m]\u001b[0m\u001b[1;33m\u001b[0m\u001b[1;33m\u001b[0m\u001b[0m\n\u001b[0;32m     18\u001b[0m         \u001b[0mout\u001b[0m \u001b[1;33m=\u001b[0m \u001b[0mself\u001b[0m\u001b[1;33m.\u001b[0m\u001b[0mfc\u001b[0m\u001b[1;33m(\u001b[0m\u001b[0mlstm_last\u001b[0m\u001b[1;33m)\u001b[0m\u001b[1;33m\u001b[0m\u001b[1;33m\u001b[0m\u001b[0m\n",
      "\u001b[1;31mRuntimeError\u001b[0m: cannot reshape tensor of 0 elements into shape [0, 7, -1] because the unspecified dimension size -1 can be any value and is ambiguous"
     ]
    }
   ],
   "source": [
    "for epoch in range(num_epochs):\n",
    "    outputs = lstm1.forward(x_train) #forward pass \n",
    "    optimizer.zero_grad() #caluclate the gradient, manually setting to 0 \n",
    "    # obtain the loss function \n",
    "    loss = loss_function(outputs, y_train) \n",
    "    loss.backward() #calculates the loss of the loss function \n",
    "    optimizer.step() #improve from loss, i.e backprop \n",
    "    if epoch % 100 == 0: \n",
    "        print(\"Epoch: %d, loss: %1.5f\" % (epoch, loss.item()))"
   ]
  },
  {
   "cell_type": "code",
   "execution_count": 166,
   "metadata": {
    "scrolled": true
   },
   "outputs": [
    {
     "data": {
      "image/png": "[encoded data removed]",
      "text/plain": [
       "<Figure size 540x324 with 1 Axes>"
      ]
     },
     "metadata": {
      "needs_background": "light"
     },
     "output_type": "display_data"
    }
   ],
   "source": [
    "# plt.rc('font', family='NanumGothic') # use when korean text output is needed\n",
    "\n",
    "df_X_ss = ss.transform(X)\n",
    "df_X_ss = Variable(torch.Tensor(df_X_ss))\n",
    "\n",
    "#reshaping the dataset\n",
    "df_X_ss = torch.reshape(df_X_ss, (df_X_ss.shape[0], 1, df_X_ss.shape[1]))\n",
    "data_predict = lstm1(df_X_ss.to(device)).data.detach().cpu().numpy()\n",
    "data_predict = mm.inverse_transform(data_predict) #reverse transformation\n",
    "\n",
    "history_cut = 0 # length of latest history to view. Set to 0 to see whole test set.\n",
    "\n",
    "plt.figure(figsize=(7.5,4.5)) #plotting\n",
    "plt.plot(y.values[cut_line:][-history_cut:], label='actual price', marker='o') #actual plot\n",
    "plt.plot(data_predict[cut_line:][-history_cut:], label='predicted price', marker='v') #predicted plot\n",
    "plt.title(\"Company I\".split(\".\")[0])\n",
    "plt.legend(loc='upper left')\n",
    "plt.show() "
   ]
  },
  {
   "cell_type": "code",
   "execution_count": 92,
   "metadata": {},
   "outputs": [],
   "source": [
    "def max_n_dig(n): #the maximum value with n digits  \n",
    "    (3**(n+1)-3)/2\n",
    "\n",
    "\n",
    "def solution(n):\n",
    "    num_dig=0\n",
    "    for i in range(n):\n",
    "        if max_n_dig(i)>n:\n",
    "            num_dig=i\n",
    "            break\n",
    "    \n",
    "    answer = ''\n",
    "    return answer"
   ]
  },
  {
   "cell_type": "code",
   "execution_count": 94,
   "metadata": {},
   "outputs": [],
   "source": [
    "def increm(arr, idx):\n",
    "    if arr[idx]==1: arr[idx]=2\n",
    "    if arr[idx]==2: arr[idx]=4\n",
    "    if arr[idx]==4:\n",
    "        arr[idx]==1\n",
    "        try:\n",
    "            increm(arr, idx+1)\n",
    "        except:\n",
    "            arr.append(1)\n",
    "    \n",
    "\n",
    "def solution(n):\n",
    "    arr = [1]\n",
    "    if n==1: return '1'\n",
    "    else:\n",
    "        for i in range(n-1):\n",
    "            increm(arr,0)\n",
    "        arr.reverse()\n",
    "        return ''.join(arr)        \n",
    "        "
   ]
  },
  {
   "cell_type": "code",
   "execution_count": 86,
   "metadata": {},
   "outputs": [],
   "source": [
    "def fac(n):\n",
    "    result = []\n",
    "    for i in range(n):\n",
    "        if n%(i+1)==0:\n",
    "            result.append(i+1)\n",
    "    return result\n",
    "\n",
    "\n",
    "def div(s, n): #문자열 s를 n개 단위로 자른 list 반환\n",
    "    result = []\n",
    "    for i in range(int(len(s)/n)):\n",
    "        result.append(s[i*n:(i+1)*n])\n",
    "    if n not in fac(len(s)):\n",
    "        rem = len(s) - int(len(s)/n)*n\n",
    "        result.append(s[-rem:])\n",
    "    return result\n",
    "\n",
    "\n",
    "def solution(s):\n",
    "    facs = fac(len(s))\n",
    "    \n",
    "    min_leng = 10000\n",
    "    for n in facs:\n",
    "        divd = div(s,n)\n",
    "        cnt = [[divd[0],1]]\n",
    "        crt = divd[0]\n",
    "        for el in divd[1:]:\n",
    "            if el==crt:\n",
    "                cnt[-1][-1]+=1\n",
    "            else:\n",
    "                cnt.append([el,1])\n",
    "                crt = el\n",
    "        leng = 0\n",
    "        for key in cnt:\n",
    "            if key[-1]==1:\n",
    "                leng += len(key[0])\n",
    "            else:\n",
    "                leng += len(key[0])\n",
    "                leng += len(str(key[-1]))\n",
    "        if leng<min_leng: min_leng = leng\n",
    "    return min_leng"
   ]
  },
  {
   "cell_type": "code",
   "execution_count": null,
   "metadata": {},
   "outputs": [],
   "source": []
  },
  {
   "cell_type": "code",
   "execution_count": null,
   "metadata": {},
   "outputs": [],
   "source": []
  }
 ],
 "metadata": {
  "kernelspec": {
   "display_name": "Python 3",
   "language": "python",
   "name": "python3"
  },
  "language_info": {
   "codemirror_mode": {
    "name": "ipython",
    "version": 3
   },
   "file_extension": ".py",
   "mimetype": "text/x-python",
   "name": "python",
   "nbconvert_exporter": "python",
   "pygments_lexer": "ipython3",
   "version": "3.8.5"
  }
 },
 "nbformat": 4,
 "nbformat_minor": 4
}
