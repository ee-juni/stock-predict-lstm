{
 "cells": [
  {
   "cell_type": "code",
   "execution_count": 1,
   "metadata": {},
   "outputs": [],
   "source": [
    "import pandas as pd\n",
    "import numpy as np\n",
    "import csv\n",
    "\n",
    "df = pd.read_csv('nasdaq/AppleInc.csv', index_col = 'Date', parse_dates=True)\n",
    "iter_len = len(df['Close'])\n",
    "\n",
    "\n",
    "# Labeling: increase = 1, decrease = -1\n",
    "\n",
    "with open('Apple.csv', 'w', newline='') as f:\n",
    "    wt = csv.writer(f)\n",
    "    wt.writerow(['avg'])\n",
    "    #wt.writerow(\"Date,Open,High,Low,Close,Adj Close,Volume,Label\".split(\",\"))\n",
    "    for i in range(iter_len):\n",
    "        line1 = df.iloc[i]\n",
    "        a1 = (line1['Open']+line1['High']+line1['Low']+line1['Close'])/4\n",
    "        wt.writerow([a1])"
   ]
  },
  {
   "cell_type": "code",
   "execution_count": 9,
   "metadata": {},
   "outputs": [],
   "source": [
    "df = pd.read_csv('Apple.csv')['avg']\n",
    "iter_len = len(df)\n",
    "\n",
    "\n",
    "with open('Apple-1.csv', 'w', newline='') as f:\n",
    "    wt = csv.writer(f)\n",
    "    wt.writerow(\"1,2,3,4,5,6,7,8,9,10,11,12,13,14,15,16,17,18,19,20,label\".split(\",\"))\n",
    "    for i in range(iter_len-21):\n",
    "        line1 = [df.iloc[j] for j in range(i,i+20)]\n",
    "        M=max(line1)\n",
    "        m=min(line1)\n",
    "        new_line = [(x-m)/(M-m) for x in line1]\n",
    "        if ( df.iloc[i+19] < df.iloc[i+20] ):\n",
    "            new_line.append(1)\n",
    "        else: new_line.append(-1)\n",
    "        wt.writerow(new_line)\n"
   ]
  },
  {
   "cell_type": "code",
   "execution_count": 10,
   "metadata": {},
   "outputs": [
    {
     "name": "stdout",
     "output_type": "stream",
     "text": [
      "              1         2         3         4         5         6         7  \\\n",
      "0      0.323616  0.186598  0.000000  0.055390  0.125378  0.276971  0.405249   \n",
      "1      0.186598  0.000000  0.055390  0.125378  0.276971  0.405249  0.521875   \n",
      "2      0.000000  0.055390  0.125378  0.276971  0.405249  0.521875  0.673469   \n",
      "3      0.000000  0.074091  0.234574  0.370374  0.493839  0.654322  0.950621   \n",
      "4      0.000000  0.173325  0.319991  0.453335  0.626661  0.946669  1.000000   \n",
      "...         ...       ...       ...       ...       ...       ...       ...   \n",
      "10282  0.720465  0.703338  0.558491  0.296662  0.301887  0.274021  0.150943   \n",
      "10283  0.703338  0.558491  0.296662  0.301887  0.274021  0.150943  0.000000   \n",
      "10284  0.537130  0.285316  0.290340  0.263540  0.145170  0.000000  0.022892   \n",
      "10285  0.285316  0.290340  0.263540  0.145170  0.000000  0.022892  0.017029   \n",
      "10286  0.280172  0.254310  0.140086  0.000000  0.022091  0.016433  0.320851   \n",
      "\n",
      "              8         9        10  ...        12        13        14  \\\n",
      "0      0.521875  0.673469  0.953356  ...  0.921288  0.827999  0.862982   \n",
      "1      0.673469  0.953356  1.000000  ...  0.827999  0.862982  0.793016   \n",
      "2      0.953356  1.000000  0.921288  ...  0.862982  0.793016  0.653062   \n",
      "3      1.000000  0.916672  0.817913  ...  0.780879  0.632718  0.496925   \n",
      "4      0.910004  0.803343  0.843341  ...  0.603328  0.456669  0.390005   \n",
      "...         ...       ...       ...  ...       ...       ...       ...   \n",
      "10282  0.000000  0.023803  0.017706  ...  0.356748  0.299565  0.222060   \n",
      "10283  0.023803  0.017706  0.345718  ...  0.299565  0.222060  0.039768   \n",
      "10284  0.017029  0.332496  0.343104  ...  0.213567  0.038247  0.275823   \n",
      "10285  0.332496  0.343104  0.288107  ...  0.038247  0.275823  0.436627   \n",
      "10286  0.331088  0.278017  0.206088  ...  0.266164  0.421336  0.501616   \n",
      "\n",
      "             15        16        17        18        19        20  label  \n",
      "0      0.793016  0.653062  0.524790  0.466485  0.615164  0.600587     -1  \n",
      "1      0.653062  0.524790  0.466485  0.615164  0.600587  0.489807      1  \n",
      "2      0.524790  0.466485  0.615164  0.600587  0.489807  0.498553      1  \n",
      "3      0.435201  0.592597  0.577166  0.459890  0.469149  0.533960     -1  \n",
      "4      0.559997  0.543331  0.416671  0.426670  0.496667  0.470001      1  \n",
      "...         ...       ...       ...       ...       ...       ...    ...  \n",
      "10282  0.039768  0.286792  0.453991  0.540494  0.874020  1.000000     -1  \n",
      "10283  0.286792  0.453991  0.540494  0.874020  1.000000  0.999129      1  \n",
      "10284  0.436627  0.519821  0.840592  0.961753  0.960915  1.000000     -1  \n",
      "10285  0.519821  0.840592  0.961753  0.960915  1.000000  0.919318      1  \n",
      "10286  0.811153  0.928071  0.927263  0.964978  0.887122  1.000000     -1  \n",
      "\n",
      "[10287 rows x 21 columns]\n"
     ]
    }
   ],
   "source": [
    "df = pd.read_csv('Apple-1.csv')\n",
    "print(df)"
   ]
  },
  {
   "cell_type": "code",
   "execution_count": 11,
   "metadata": {},
   "outputs": [],
   "source": [
    "X = df.iloc[:, :-1].values\n",
    "y = df.iloc[:, -1].values"
   ]
  },
  {
   "cell_type": "code",
   "execution_count": 12,
   "metadata": {},
   "outputs": [],
   "source": [
    "import pandas as pd\n",
    "import numpy as np\n",
    "import torch\n",
    "import torch.nn as nn\n",
    "import torch.nn.functional as F\n",
    "\n"
   ]
  },
  {
   "cell_type": "code",
   "execution_count": 13,
   "metadata": {},
   "outputs": [],
   "source": [
    "x=np.array(X)\n",
    "y=np.array(y)\n",
    "\n",
    "if torch.cuda.is_available():\n",
    "    x=torch.tensor(x).cuda()\n",
    "    y=torch.tensor(y).cuda()\n",
    "    print(\"CUDA available\")\n",
    "else:\n",
    "    x=torch.tensor(x)\n",
    "    y=torch.tensor(y)"
   ]
  },
  {
   "cell_type": "code",
   "execution_count": 19,
   "metadata": {},
   "outputs": [],
   "source": [
    "class Net(torch.nn.Module):\n",
    "    def __init__(self, D_in, H, D_out):\n",
    "        super(Net, self).__init__()\n",
    "        self.l1 = nn.Linear(D_in, H)\n",
    "        self.h1 = nn.Linear(H, 2*H)\n",
    "        self.h2 = nn.Linear(2*H, 4*H)\n",
    "        self.l2 = nn.Linear(4*H, D_out)\n",
    "\n",
    "    def forward(self, x):\n",
    "        x = F.leaky_relu(self.l1(x))\n",
    "        x = F.leaky_relu(self.h1(x))\n",
    "        x = F.leaky_relu(self.h2(x))\n",
    "        y = self.l2(x)\n",
    "        return y\n",
    "\n",
    "\n",
    "D_in, D_out = 20, 1 #input, output \n",
    "\n",
    "def run(H, lr, epochs):\n",
    "  \n",
    "    #training\n",
    "    \n",
    "    model = Net(D_in, H, D_out)\n",
    "    if torch.cuda.is_available(): model = model.cuda()\n",
    "    criterion = torch.nn.MSELoss(reduction='sum')\n",
    "    optimizer = torch.optim.SGD(model.parameters(), lr=lr)\n",
    "    for t in range(epochs):\n",
    "        y_pred = model(x.float())\n",
    "        loss = criterion(y_pred, y.float())\n",
    "        print(t, loss.item())\n",
    "        optimizer.zero_grad()\n",
    "        loss.backward()\n",
    "        optimizer.step()\n",
    "\n",
    "  ###############################################################################\n",
    "  \n",
    "    #evaluation\n",
    "    total=0\n",
    "    correct=0\n",
    "    \n",
    "    for idx, inp in enumerate(x):\n",
    "        total+=1\n",
    "        y_pred = list(model(inp.float()).cpu().detach().numpy())\n",
    "        y_truth = list(y[idx])\n",
    "        print(y_pred, y_truth)\n",
    "        #if y_pred.index(max(y_pred))==y_truth.index(max(y_truth)): correct+=1\n",
    "    print(round(100*correct/total,2))\n"
   ]
  },
  {
   "cell_type": "code",
   "execution_count": 20,
   "metadata": {},
   "outputs": [
    {
     "name": "stdout",
     "output_type": "stream",
     "text": [
      "0 106126584.0\n",
      "1 2.6477040283141288e+32\n",
      "2 nan\n",
      "3 nan\n",
      "4 nan\n",
      "5 nan\n",
      "6 nan\n",
      "7 nan\n",
      "8 nan\n",
      "9 nan\n"
     ]
    },
    {
     "ename": "TypeError",
     "evalue": "iteration over a 0-d tensor",
     "output_type": "error",
     "traceback": [
      "\u001b[1;31m---------------------------------------------------------------------------\u001b[0m",
      "\u001b[1;31mTypeError\u001b[0m                                 Traceback (most recent call last)",
      "\u001b[1;32m<ipython-input-20-4cf6d502a4f6>\u001b[0m in \u001b[0;36m<module>\u001b[1;34m\u001b[0m\n\u001b[1;32m----> 1\u001b[1;33m \u001b[0mrun\u001b[0m\u001b[1;33m(\u001b[0m\u001b[1;36m10\u001b[0m\u001b[1;33m,\u001b[0m \u001b[1;36m1e-3\u001b[0m\u001b[1;33m,\u001b[0m \u001b[1;36m10\u001b[0m\u001b[1;33m)\u001b[0m\u001b[1;33m\u001b[0m\u001b[1;33m\u001b[0m\u001b[0m\n\u001b[0m",
      "\u001b[1;32m<ipython-input-19-fbb86bec9f18>\u001b[0m in \u001b[0;36mrun\u001b[1;34m(H, lr, epochs)\u001b[0m\n\u001b[0;32m     42\u001b[0m         \u001b[0mtotal\u001b[0m\u001b[1;33m+=\u001b[0m\u001b[1;36m1\u001b[0m\u001b[1;33m\u001b[0m\u001b[1;33m\u001b[0m\u001b[0m\n\u001b[0;32m     43\u001b[0m         \u001b[0my_pred\u001b[0m \u001b[1;33m=\u001b[0m \u001b[0mlist\u001b[0m\u001b[1;33m(\u001b[0m\u001b[0mmodel\u001b[0m\u001b[1;33m(\u001b[0m\u001b[0minp\u001b[0m\u001b[1;33m.\u001b[0m\u001b[0mfloat\u001b[0m\u001b[1;33m(\u001b[0m\u001b[1;33m)\u001b[0m\u001b[1;33m)\u001b[0m\u001b[1;33m.\u001b[0m\u001b[0mcpu\u001b[0m\u001b[1;33m(\u001b[0m\u001b[1;33m)\u001b[0m\u001b[1;33m.\u001b[0m\u001b[0mdetach\u001b[0m\u001b[1;33m(\u001b[0m\u001b[1;33m)\u001b[0m\u001b[1;33m.\u001b[0m\u001b[0mnumpy\u001b[0m\u001b[1;33m(\u001b[0m\u001b[1;33m)\u001b[0m\u001b[1;33m)\u001b[0m\u001b[1;33m\u001b[0m\u001b[1;33m\u001b[0m\u001b[0m\n\u001b[1;32m---> 44\u001b[1;33m         \u001b[0my_truth\u001b[0m \u001b[1;33m=\u001b[0m \u001b[0mlist\u001b[0m\u001b[1;33m(\u001b[0m\u001b[0my\u001b[0m\u001b[1;33m[\u001b[0m\u001b[0midx\u001b[0m\u001b[1;33m]\u001b[0m\u001b[1;33m)\u001b[0m\u001b[1;33m\u001b[0m\u001b[1;33m\u001b[0m\u001b[0m\n\u001b[0m\u001b[0;32m     45\u001b[0m         \u001b[0mprint\u001b[0m\u001b[1;33m(\u001b[0m\u001b[0my_pred\u001b[0m\u001b[1;33m,\u001b[0m \u001b[0my_truth\u001b[0m\u001b[1;33m)\u001b[0m\u001b[1;33m\u001b[0m\u001b[1;33m\u001b[0m\u001b[0m\n\u001b[0;32m     46\u001b[0m         \u001b[1;31m#if y_pred.index(max(y_pred))==y_truth.index(max(y_truth)): correct+=1\u001b[0m\u001b[1;33m\u001b[0m\u001b[1;33m\u001b[0m\u001b[1;33m\u001b[0m\u001b[0m\n",
      "\u001b[1;32m~\\anaconda3\\lib\\site-packages\\torch\\tensor.py\u001b[0m in \u001b[0;36m__iter__\u001b[1;34m(self)\u001b[0m\n\u001b[0;32m    583\u001b[0m             \u001b[1;32mreturn\u001b[0m \u001b[0mhandle_torch_function\u001b[0m\u001b[1;33m(\u001b[0m\u001b[0mTensor\u001b[0m\u001b[1;33m.\u001b[0m\u001b[0m__iter__\u001b[0m\u001b[1;33m,\u001b[0m \u001b[1;33m(\u001b[0m\u001b[0mself\u001b[0m\u001b[1;33m,\u001b[0m\u001b[1;33m)\u001b[0m\u001b[1;33m,\u001b[0m \u001b[0mself\u001b[0m\u001b[1;33m)\u001b[0m\u001b[1;33m\u001b[0m\u001b[1;33m\u001b[0m\u001b[0m\n\u001b[0;32m    584\u001b[0m         \u001b[1;32mif\u001b[0m \u001b[0mself\u001b[0m\u001b[1;33m.\u001b[0m\u001b[0mdim\u001b[0m\u001b[1;33m(\u001b[0m\u001b[1;33m)\u001b[0m \u001b[1;33m==\u001b[0m \u001b[1;36m0\u001b[0m\u001b[1;33m:\u001b[0m\u001b[1;33m\u001b[0m\u001b[1;33m\u001b[0m\u001b[0m\n\u001b[1;32m--> 585\u001b[1;33m             \u001b[1;32mraise\u001b[0m \u001b[0mTypeError\u001b[0m\u001b[1;33m(\u001b[0m\u001b[1;34m'iteration over a 0-d tensor'\u001b[0m\u001b[1;33m)\u001b[0m\u001b[1;33m\u001b[0m\u001b[1;33m\u001b[0m\u001b[0m\n\u001b[0m\u001b[0;32m    586\u001b[0m         \u001b[1;32mif\u001b[0m \u001b[0mtorch\u001b[0m\u001b[1;33m.\u001b[0m\u001b[0m_C\u001b[0m\u001b[1;33m.\u001b[0m\u001b[0m_get_tracing_state\u001b[0m\u001b[1;33m(\u001b[0m\u001b[1;33m)\u001b[0m\u001b[1;33m:\u001b[0m\u001b[1;33m\u001b[0m\u001b[1;33m\u001b[0m\u001b[0m\n\u001b[0;32m    587\u001b[0m             warnings.warn('Iterating over a tensor might cause the trace to be incorrect. '\n",
      "\u001b[1;31mTypeError\u001b[0m: iteration over a 0-d tensor"
     ]
    }
   ],
   "source": [
    "run(10, 1e-3, 10)"
   ]
  },
  {
   "cell_type": "code",
   "execution_count": null,
   "metadata": {},
   "outputs": [],
   "source": []
  },
  {
   "cell_type": "code",
   "execution_count": null,
   "metadata": {},
   "outputs": [],
   "source": []
  }
 ],
 "metadata": {
  "kernelspec": {
   "display_name": "Python 3",
   "language": "python",
   "name": "python3"
  },
  "language_info": {
   "codemirror_mode": {
    "name": "ipython",
    "version": 3
   },
   "file_extension": ".py",
   "mimetype": "text/x-python",
   "name": "python",
   "nbconvert_exporter": "python",
   "pygments_lexer": "ipython3",
   "version": "3.8.5"
  }
 },
 "nbformat": 4,
 "nbformat_minor": 4
}
