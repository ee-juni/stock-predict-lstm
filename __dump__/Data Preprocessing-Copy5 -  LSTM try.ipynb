{
 "cells": [
  {
   "cell_type": "code",
   "execution_count": 17,
   "metadata": {},
   "outputs": [],
   "source": [
    "import pandas as pd\n",
    "import matplotlib.pyplot as plt\n",
    "import numpy as np\n",
    "import pandas as pd\n",
    "df = pd.read_csv('nasdaq/AppleInc.csv', index_col = 'Date', parse_dates=True)"
   ]
  },
  {
   "cell_type": "code",
   "execution_count": 18,
   "metadata": {},
   "outputs": [
    {
     "data": {
      "text/plain": [
       "<AxesSubplot:title={'center':'Star Bucks Stock Volume'}, xlabel='Date'>"
      ]
     },
     "execution_count": 18,
     "metadata": {},
     "output_type": "execute_result"
    },
    {
     "data": {
      "image/png": "[encoded data removed]",
      "text/plain": [
       "<Figure size 432x288 with 1 Axes>"
      ]
     },
     "metadata": {},
     "output_type": "display_data"
    }
   ],
   "source": [
    "plt.style.use('ggplot')\n",
    "df['Volume'].plot(label='CLOSE', title='Star Bucks Stock Volume')"
   ]
  },
  {
   "cell_type": "code",
   "execution_count": 19,
   "metadata": {},
   "outputs": [],
   "source": [
    "X = df.iloc[:, :-1]\n",
    "y = df.iloc[:, 5:6] "
   ]
  },
  {
   "cell_type": "code",
   "execution_count": 20,
   "metadata": {},
   "outputs": [],
   "source": [
    "from sklearn.preprocessing import StandardScaler, MinMaxScaler\n",
    "mm = MinMaxScaler()\n",
    "ss = StandardScaler()\n",
    "\n",
    "\n",
    "X_ss = ss.fit_transform(X)\n",
    "y_mm = mm.fit_transform(y)"
   ]
  },
  {
   "cell_type": "code",
   "execution_count": 21,
   "metadata": {},
   "outputs": [],
   "source": [
    "X_train = X_ss[:9000, :]\n",
    "X_test = X_ss[9000:, :]\n",
    "\n",
    "y_train = y_mm[:9000, :]\n",
    "y_test = y_mm[9000:, :] "
   ]
  },
  {
   "cell_type": "code",
   "execution_count": 22,
   "metadata": {},
   "outputs": [
    {
     "name": "stdout",
     "output_type": "stream",
     "text": [
      "Training Shape (9000, 5) (9000, 1)\n",
      "Testing Shape (1308, 5) (1308, 1)\n"
     ]
    }
   ],
   "source": [
    "print(\"Training Shape\", X_train.shape, y_train.shape)\n",
    "print(\"Testing Shape\", X_test.shape, y_test.shape) "
   ]
  },
  {
   "cell_type": "code",
   "execution_count": 23,
   "metadata": {},
   "outputs": [],
   "source": [
    "import torch #pytorch\n",
    "import torch.nn as nn\n",
    "from torch.autograd import Variable "
   ]
  },
  {
   "cell_type": "code",
   "execution_count": 24,
   "metadata": {},
   "outputs": [],
   "source": [
    "X_train_tensors = Variable(torch.Tensor(X_train))\n",
    "X_test_tensors = Variable(torch.Tensor(X_test))\n",
    "\n",
    "y_train_tensors = Variable(torch.Tensor(y_train))\n",
    "y_test_tensors = Variable(torch.Tensor(y_test)) "
   ]
  },
  {
   "cell_type": "code",
   "execution_count": 25,
   "metadata": {},
   "outputs": [],
   "source": [
    "X_train_tensors_final = torch.reshape(X_train_tensors,   (X_train_tensors.shape[0], 1, X_train_tensors.shape[1]))\n",
    "\n",
    "\n",
    "X_test_tensors_final = torch.reshape(X_test_tensors,  (X_test_tensors.shape[0], 1, X_test_tensors.shape[1])) "
   ]
  },
  {
   "cell_type": "code",
   "execution_count": 26,
   "metadata": {},
   "outputs": [],
   "source": [
    "class LSTM1(nn.Module):\n",
    "    def __init__(self, num_classes, input_size, hidden_size, num_layers, seq_length):\n",
    "        super(LSTM1, self).__init__()\n",
    "        self.num_classes = num_classes #number of classes\n",
    "        self.num_layers = num_layers #number of layers\n",
    "        self.input_size = input_size #input size\n",
    "        self.hidden_size = hidden_size #hidden state\n",
    "        self.seq_length = seq_length #sequence length\n",
    "\n",
    "        self.lstm = nn.LSTM(input_size=input_size, hidden_size=hidden_size,\n",
    "                          num_layers=num_layers, batch_first=True) #lstm\n",
    "        self.fc_1 =  nn.Linear(hidden_size, 128) #fully connected 1\n",
    "        self.fc = nn.Linear(128, num_classes) #fully connected last layer\n",
    "\n",
    "        self.relu = nn.ReLU()\n",
    "    \n",
    "    def forward(self,x):\n",
    "        h_0 = Variable(torch.zeros(self.num_layers, x.size(0), self.hidden_size)) #hidden state\n",
    "        c_0 = Variable(torch.zeros(self.num_layers, x.size(0), self.hidden_size)) #internal state\n",
    "        # Propagate input through LSTM\n",
    "        output, (hn, cn) = self.lstm(x, (h_0, c_0)) #lstm with input, hidden, and internal state\n",
    "        hn = hn.view(-1, self.hidden_size) #reshaping the data for Dense layer next\n",
    "        out = self.relu(hn)\n",
    "        out = self.fc_1(out) #first Dense\n",
    "        out = self.relu(out) #relu\n",
    "        out = self.fc(out) #Final Output\n",
    "        return out"
   ]
  },
  {
   "cell_type": "code",
   "execution_count": 33,
   "metadata": {},
   "outputs": [],
   "source": [
    "num_epochs = 10000 #1000 epochs\n",
    "learning_rate = 0.001 #0.001 lr\n",
    "\n",
    "input_size = 5 #number of features\n",
    "hidden_size = 2 #number of features in hidden state\n",
    "num_layers = 1 #number of stacked lstm layers\n",
    "\n",
    "num_classes = 1 #number of output classes "
   ]
  },
  {
   "cell_type": "code",
   "execution_count": 34,
   "metadata": {},
   "outputs": [],
   "source": [
    "lstm1 = LSTM1(num_classes, input_size, hidden_size, num_layers, X_train_tensors_final.shape[1]) #our lstm class "
   ]
  },
  {
   "cell_type": "code",
   "execution_count": 35,
   "metadata": {},
   "outputs": [],
   "source": [
    "criterion = torch.nn.MSELoss()    # mean-squared error for regression\n",
    "optimizer = torch.optim.Adam(lstm1.parameters(), lr=learning_rate) "
   ]
  },
  {
   "cell_type": "code",
   "execution_count": 36,
   "metadata": {},
   "outputs": [
    {
     "name": "stdout",
     "output_type": "stream",
     "text": [
      "Epoch: 0, loss: 0.05497\n",
      "Epoch: 100, loss: 0.00229\n",
      "Epoch: 200, loss: 0.00216\n",
      "Epoch: 300, loss: 0.00202\n",
      "Epoch: 400, loss: 0.00187\n",
      "Epoch: 500, loss: 0.00170\n",
      "Epoch: 600, loss: 0.00155\n",
      "Epoch: 700, loss: 0.00146\n",
      "Epoch: 800, loss: 0.00142\n",
      "Epoch: 900, loss: 0.00140\n",
      "Epoch: 1000, loss: 0.00139\n",
      "Epoch: 1100, loss: 0.00138\n",
      "Epoch: 1200, loss: 0.00138\n",
      "Epoch: 1300, loss: 0.00137\n",
      "Epoch: 1400, loss: 0.00137\n",
      "Epoch: 1500, loss: 0.00137\n",
      "Epoch: 1600, loss: 0.00137\n",
      "Epoch: 1700, loss: 0.00137\n",
      "Epoch: 1800, loss: 0.00137\n",
      "Epoch: 1900, loss: 0.00137\n",
      "Epoch: 2000, loss: 0.00137\n",
      "Epoch: 2100, loss: 0.00136\n",
      "Epoch: 2200, loss: 0.00136\n",
      "Epoch: 2300, loss: 0.00136\n",
      "Epoch: 2400, loss: 0.00136\n",
      "Epoch: 2500, loss: 0.00136\n",
      "Epoch: 2600, loss: 0.00136\n",
      "Epoch: 2700, loss: 0.00136\n",
      "Epoch: 2800, loss: 0.00136\n",
      "Epoch: 2900, loss: 0.00136\n",
      "Epoch: 3000, loss: 0.00136\n",
      "Epoch: 3100, loss: 0.00135\n",
      "Epoch: 3200, loss: 0.00135\n",
      "Epoch: 3300, loss: 0.00135\n",
      "Epoch: 3400, loss: 0.00135\n",
      "Epoch: 3500, loss: 0.00134\n",
      "Epoch: 3600, loss: 0.00133\n",
      "Epoch: 3700, loss: 0.00132\n",
      "Epoch: 3800, loss: 0.00135\n",
      "Epoch: 3900, loss: 0.00127\n",
      "Epoch: 4000, loss: 0.00126\n",
      "Epoch: 4100, loss: 0.00124\n",
      "Epoch: 4200, loss: 0.00123\n",
      "Epoch: 4300, loss: 0.00122\n",
      "Epoch: 4400, loss: 0.00122\n",
      "Epoch: 4500, loss: 0.00121\n",
      "Epoch: 4600, loss: 0.00120\n",
      "Epoch: 4700, loss: 0.00119\n",
      "Epoch: 4800, loss: 0.00119\n",
      "Epoch: 4900, loss: 0.00118\n",
      "Epoch: 5000, loss: 0.00118\n",
      "Epoch: 5100, loss: 0.00117\n",
      "Epoch: 5200, loss: 0.00116\n",
      "Epoch: 5300, loss: 0.00116\n",
      "Epoch: 5400, loss: 0.00115\n",
      "Epoch: 5500, loss: 0.00115\n",
      "Epoch: 5600, loss: 0.00114\n",
      "Epoch: 5700, loss: 0.00114\n",
      "Epoch: 5800, loss: 0.00113\n",
      "Epoch: 5900, loss: 0.00113\n",
      "Epoch: 6000, loss: 0.00112\n",
      "Epoch: 6100, loss: 0.00112\n",
      "Epoch: 6200, loss: 0.00112\n",
      "Epoch: 6300, loss: 0.00111\n",
      "Epoch: 6400, loss: 0.00111\n",
      "Epoch: 6500, loss: 0.00111\n",
      "Epoch: 6600, loss: 0.00120\n",
      "Epoch: 6700, loss: 0.00110\n",
      "Epoch: 6800, loss: 0.00117\n",
      "Epoch: 6900, loss: 0.00110\n",
      "Epoch: 7000, loss: 0.00110\n",
      "Epoch: 7100, loss: 0.00110\n",
      "Epoch: 7200, loss: 0.00109\n",
      "Epoch: 7300, loss: 0.00109\n",
      "Epoch: 7400, loss: 0.00109\n",
      "Epoch: 7500, loss: 0.00110\n",
      "Epoch: 7600, loss: 0.00109\n",
      "Epoch: 7700, loss: 0.00109\n",
      "Epoch: 7800, loss: 0.00112\n",
      "Epoch: 7900, loss: 0.00108\n",
      "Epoch: 8000, loss: 0.00108\n",
      "Epoch: 8100, loss: 0.00108\n",
      "Epoch: 8200, loss: 0.00108\n",
      "Epoch: 8300, loss: 0.00108\n",
      "Epoch: 8400, loss: 0.00108\n",
      "Epoch: 8500, loss: 0.00108\n",
      "Epoch: 8600, loss: 0.00107\n",
      "Epoch: 8700, loss: 0.00107\n",
      "Epoch: 8800, loss: 0.00107\n",
      "Epoch: 8900, loss: 0.00107\n",
      "Epoch: 9000, loss: 0.00111\n",
      "Epoch: 9100, loss: 0.00107\n",
      "Epoch: 9200, loss: 0.00107\n",
      "Epoch: 9300, loss: 0.00107\n",
      "Epoch: 9400, loss: 0.00106\n",
      "Epoch: 9500, loss: 0.00106\n",
      "Epoch: 9600, loss: 0.00107\n",
      "Epoch: 9700, loss: 0.00107\n",
      "Epoch: 9800, loss: 0.00106\n",
      "Epoch: 9900, loss: 0.00107\n"
     ]
    }
   ],
   "source": [
    "for epoch in range(num_epochs):\n",
    "    outputs = lstm1.forward(X_train_tensors_final) #forward pass\n",
    "    optimizer.zero_grad() #caluclate the gradient, manually setting to 0\n",
    "\n",
    "    # obtain the loss function\n",
    "    loss = criterion(outputs, y_train_tensors)\n",
    "\n",
    "    loss.backward() #calculates the loss of the loss function\n",
    "\n",
    "    optimizer.step() #improve from loss, i.e backprop\n",
    "    if epoch % 100 == 0:\n",
    "        print(\"Epoch: %d, loss: %1.5f\" % (epoch, loss.item())) "
   ]
  },
  {
   "cell_type": "code",
   "execution_count": 37,
   "metadata": {},
   "outputs": [],
   "source": [
    "df_X_ss = ss.transform(df.iloc[:, :-1]) #old transformers\n",
    "df_y_mm = mm.transform(df.iloc[:, -1:]) #old transformers\n",
    "\n",
    "df_X_ss = Variable(torch.Tensor(df_X_ss)) #converting to Tensors\n",
    "df_y_mm = Variable(torch.Tensor(df_y_mm))\n",
    "#reshaping the dataset\n",
    "df_X_ss = torch.reshape(df_X_ss, (df_X_ss.shape[0], 1, df_X_ss.shape[1])) "
   ]
  },
  {
   "cell_type": "code",
   "execution_count": 38,
   "metadata": {},
   "outputs": [
    {
     "data": {
      "image/png": "[encoded data removed]",
      "text/plain": [
       "<Figure size 720x432 with 1 Axes>"
      ]
     },
     "metadata": {},
     "output_type": "display_data"
    }
   ],
   "source": [
    "train_predict = lstm1(df_X_ss)#forward pass\n",
    "data_predict = train_predict.data.numpy() #numpy conversion\n",
    "dataY_plot = df_y_mm.data.numpy()\n",
    "\n",
    "data_predict = mm.inverse_transform(data_predict) #reverse transformation\n",
    "dataY_plot = mm.inverse_transform(dataY_plot)\n",
    "plt.figure(figsize=(10,6)) #plotting\n",
    "plt.axvline(x=200, c='r', linestyle='--') #size of the training set\n",
    "\n",
    "plt.plot(dataY_plot, label='Actuall Data') #actual plot\n",
    "plt.plot(data_predict, label='Predicted Data') #predicted plot\n",
    "plt.title('Time-Series Prediction')\n",
    "plt.legend()\n",
    "plt.show() "
   ]
  },
  {
   "cell_type": "code",
   "execution_count": null,
   "metadata": {},
   "outputs": [],
   "source": []
  }
 ],
 "metadata": {
  "kernelspec": {
   "display_name": "Python 3",
   "language": "python",
   "name": "python3"
  },
  "language_info": {
   "codemirror_mode": {
    "name": "ipython",
    "version": 3
   },
   "file_extension": ".py",
   "mimetype": "text/x-python",
   "name": "python",
   "nbconvert_exporter": "python",
   "pygments_lexer": "ipython3",
   "version": "3.8.5"
  }
 },
 "nbformat": 4,
 "nbformat_minor": 4
}
