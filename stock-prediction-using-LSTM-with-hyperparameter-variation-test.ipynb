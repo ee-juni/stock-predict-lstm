{
 "cells": [
  {
   "cell_type": "code",
   "execution_count": 1,
   "metadata": {},
   "outputs": [],
   "source": [
    "# Load necessary modules\n",
    "\n",
    "import numpy as np\n",
    "import pandas as pd\n",
    "import matplotlib.pyplot as plt\n",
    "from datetime import datetime\n",
    "import torch\n",
    "import torch.nn as nn\n",
    "import torch.optim as optim"
   ]
  },
  {
   "cell_type": "code",
   "execution_count": 2,
   "metadata": {},
   "outputs": [],
   "source": [
    "# Data preparation\n",
    "\n",
    "num=9\n",
    "fn = ['DRB동일.csv', 'KEC.csv', 'SK아이이테크놀로지.csv', '기신정기.csv', '동양피스톤.csv', '두산퓨얼셀.csv', '디와이파워.csv', '삼아알미늄.csv', '티와이홀딩스.csv', '화승코퍼레이션.csv']\n",
    "\n",
    "df = pd.read_csv('data/'+fn[num], index_col = 'Date', parse_dates=True)\n",
    "df['Mid']=(df['Low']+df['High'])/2\n",
    "\n",
    "cut_line = len(df['Mid'])-round(len(df['Mid'])/10)\n",
    "\n",
    "train_data = df['Mid'].values[:cut_line].reshape(-1,1).astype('float')\n",
    "test_data = df['Mid'].values[cut_line:].reshape(-1,1).astype('float')\n",
    "\n",
    "\n",
    "# Scale data\n",
    "\n",
    "from sklearn.preprocessing import minmax_scale as mm\n",
    "train_data = mm(train_data)\n",
    "test_data = mm(test_data)"
   ]
  },
  {
   "cell_type": "code",
   "execution_count": 3,
   "metadata": {
    "scrolled": true
   },
   "outputs": [],
   "source": [
    "def create_seq(data, seq_length):\n",
    "    x = []\n",
    "    y = []\n",
    "    for i in range(len(data)-seq_length):\n",
    "        x.append(data[i:i+seq_length])\n",
    "        y.append(data[i+seq_length])\n",
    "    x = np.array(x)\n",
    "    y = np.array(y)\n",
    "    return x, y"
   ]
  },
  {
   "cell_type": "code",
   "execution_count": 4,
   "metadata": {},
   "outputs": [],
   "source": [
    "class LSTM1(nn.Module):\n",
    "    \n",
    "    def __init__(self, input_size, hidden_size, num_layers, seq_len):\n",
    "        super(LSTM1, self).__init__()\n",
    "        self.num_layers = num_layers #number of layers \n",
    "        self.input_size = input_size #input size (number of features)\n",
    "        self.hidden_size = hidden_size #hidden state \n",
    "        self.seq_len = seq_len #sequence length \n",
    "        self.lstm = nn.LSTM(input_size=input_size, hidden_size=hidden_size, num_layers=num_layers) #lstm \n",
    "        self.fc = nn.Linear(self.hidden_size, 1) #fully connected last layer \n",
    "    \n",
    "    def init_hidden(self):\n",
    "        self.hidden = (\n",
    "            torch.zeros(self.num_layers, self.seq_len, self.hidden_size),\n",
    "            torch.zeros(self.num_layers, self.seq_len, self.hidden_size)          \n",
    "                      )\n",
    "    \n",
    "    def forward(self,seqs):\n",
    "        lstm_out, self.hidden = self.lstm(seqs.view(len(seqs), self.seq_len, -1), self.hidden) #lstm with input, hidden, and internal state \n",
    "        lstm_last = lstm_out.view(self.seq_len, len(seqs), self.hidden_size)[-1]\n",
    "        out = self.fc(lstm_last)\n",
    "        return out"
   ]
  },
  {
   "cell_type": "code",
   "execution_count": 5,
   "metadata": {},
   "outputs": [],
   "source": [
    "# Train\n",
    "\n",
    "def train(num_epochs, learning_rate, input_size, hidden_size, num_layers, seq_len):\n",
    "    x_train, y_train = create_seq(train_data, seq_len)\n",
    "    x_test, y_test = create_seq(test_data, seq_len)\n",
    "    x_train, y_train, x_test, y_test = map(lambda data:torch.from_numpy(data).float(), [x_train, y_train, x_test, y_test])\n",
    "\n",
    "    device = torch.device(\"cuda:0\" if torch.cuda.is_available() else \"cpu\") # device\n",
    "    lstm1 = LSTM1(input_size, hidden_size, num_layers, seq_len).to(device)\n",
    "\n",
    "    loss_function = torch.nn.MSELoss()    # mean-squared error for regression\n",
    "    optimizer = torch.optim.Adam(lstm1.parameters(), lr=learning_rate)  # adam optimizer\n",
    "\n",
    "    for epoch in range(num_epochs):\n",
    "        lstm1.init_hidden()\n",
    "        y_pred = lstm1(x_train)  \n",
    "        loss = loss_function(y_pred, y_train) \n",
    "        # obtain the loss function \n",
    "        optimizer.zero_grad() \n",
    "        loss.backward() #calculates the loss of the loss function \n",
    "        optimizer.step() #improve from loss, i.e backprop \n",
    "        if epoch % 100 == 0: \n",
    "            print(\"Epoch: %d, loss: %1.5f\" % (epoch, loss.item()))\n",
    "\n",
    "            \n",
    "    # Testing the model \n",
    "            \n",
    "    # plt.rc('font', family='NanumGothic') # use when korean text output is needed\n",
    "    data_predict = lstm1(x_test.to(device)).data.detach().cpu().numpy()\n",
    "    history_cut = 0 # length of latest history to view. Set to 0 to see whole test set.\n",
    "    plt.figure(figsize=(7.5,4.5)) #plotting\n",
    "    plt.plot(y_test[-history_cut:], label='actual price', marker='o') #actual plot\n",
    "    plt.plot(data_predict[-history_cut:], label='predicted price', marker='v') #predicted plot\n",
    "    plt.title(f\"Company {num}\")\n",
    "    plt.legend(loc='upper left')\n",
    "\n",
    "    \n",
    "    # Save model performance and hyperparameters\n",
    "    \n",
    "    filename = datetime.now().strftime(\"%Y%m%d-%H%M%S\")\n",
    "    plt.savefig(f'performance/{filename}.png')\n",
    "    with open(\"performance/performance.txt\",'a') as f:\n",
    "        f.write(f\"\"\"\n",
    "id:\\t\\t{filename}\n",
    "num_epochs:\\t{num_epochs}\n",
    "learning_rate:\\t{learning_rate}\n",
    "hidden_size:\\t{hidden_size}\n",
    "num_layers:\\t{num_layers}\n",
    "seq_len:\\t\\t{seq_len}\n",
    "loss:\\t\\t{round(loss.item(),5)}\n",
    "\"\"\")"
   ]
  },
  {
   "cell_type": "code",
   "execution_count": 6,
   "metadata": {
    "scrolled": true
   },
   "outputs": [
    {
     "name": "stdout",
     "output_type": "stream",
     "text": [
      "Epoch: 0, loss: 0.05255\n"
     ]
    },
    {
     "ename": "KeyboardInterrupt",
     "evalue": "",
     "output_type": "error",
     "traceback": [
      "\u001b[1;31m---------------------------------------------------------------------------\u001b[0m",
      "\u001b[1;31mKeyboardInterrupt\u001b[0m                         Traceback (most recent call last)",
      "\u001b[1;32m<ipython-input-6-6072c77aa401>\u001b[0m in \u001b[0;36m<module>\u001b[1;34m\u001b[0m\n\u001b[0;32m     10\u001b[0m     \u001b[1;32mfor\u001b[0m \u001b[0mseq_len\u001b[0m \u001b[1;32min\u001b[0m \u001b[0mseq_lens\u001b[0m\u001b[1;33m:\u001b[0m\u001b[1;33m\u001b[0m\u001b[1;33m\u001b[0m\u001b[0m\n\u001b[0;32m     11\u001b[0m         \u001b[1;32mfor\u001b[0m \u001b[0mnum_layers\u001b[0m \u001b[1;32min\u001b[0m \u001b[0mnum_layerss\u001b[0m\u001b[1;33m:\u001b[0m\u001b[1;33m\u001b[0m\u001b[1;33m\u001b[0m\u001b[0m\n\u001b[1;32m---> 12\u001b[1;33m             \u001b[0mtrain\u001b[0m\u001b[1;33m(\u001b[0m\u001b[0mnum_epochs\u001b[0m\u001b[1;33m,\u001b[0m \u001b[0mlearning_rate\u001b[0m\u001b[1;33m,\u001b[0m \u001b[0minput_size\u001b[0m\u001b[1;33m,\u001b[0m \u001b[0mhidden_size\u001b[0m\u001b[1;33m,\u001b[0m \u001b[0mnum_layers\u001b[0m\u001b[1;33m,\u001b[0m \u001b[0mseq_len\u001b[0m\u001b[1;33m)\u001b[0m\u001b[1;33m\u001b[0m\u001b[1;33m\u001b[0m\u001b[0m\n\u001b[0m",
      "\u001b[1;32m<ipython-input-5-8a988729dacb>\u001b[0m in \u001b[0;36mtrain\u001b[1;34m(num_epochs, learning_rate, input_size, hidden_size, num_layers, seq_len)\u001b[0m\n\u001b[0;32m     24\u001b[0m         \u001b[1;31m# obtain the loss function\u001b[0m\u001b[1;33m\u001b[0m\u001b[1;33m\u001b[0m\u001b[1;33m\u001b[0m\u001b[0m\n\u001b[0;32m     25\u001b[0m         \u001b[0moptimizer\u001b[0m\u001b[1;33m.\u001b[0m\u001b[0mzero_grad\u001b[0m\u001b[1;33m(\u001b[0m\u001b[1;33m)\u001b[0m\u001b[1;33m\u001b[0m\u001b[1;33m\u001b[0m\u001b[0m\n\u001b[1;32m---> 26\u001b[1;33m         \u001b[0mloss\u001b[0m\u001b[1;33m.\u001b[0m\u001b[0mbackward\u001b[0m\u001b[1;33m(\u001b[0m\u001b[1;33m)\u001b[0m \u001b[1;31m#calculates the loss of the loss function\u001b[0m\u001b[1;33m\u001b[0m\u001b[1;33m\u001b[0m\u001b[0m\n\u001b[0m\u001b[0;32m     27\u001b[0m         \u001b[0moptimizer\u001b[0m\u001b[1;33m.\u001b[0m\u001b[0mstep\u001b[0m\u001b[1;33m(\u001b[0m\u001b[1;33m)\u001b[0m \u001b[1;31m#improve from loss, i.e backprop\u001b[0m\u001b[1;33m\u001b[0m\u001b[1;33m\u001b[0m\u001b[0m\n\u001b[0;32m     28\u001b[0m         \u001b[1;32mif\u001b[0m \u001b[0mepoch\u001b[0m \u001b[1;33m%\u001b[0m \u001b[1;36m100\u001b[0m \u001b[1;33m==\u001b[0m \u001b[1;36m0\u001b[0m\u001b[1;33m:\u001b[0m\u001b[1;33m\u001b[0m\u001b[1;33m\u001b[0m\u001b[0m\n",
      "\u001b[1;32m~\\anaconda3\\lib\\site-packages\\torch\\tensor.py\u001b[0m in \u001b[0;36mbackward\u001b[1;34m(self, gradient, retain_graph, create_graph, inputs)\u001b[0m\n\u001b[0;32m    243\u001b[0m                 \u001b[0mcreate_graph\u001b[0m\u001b[1;33m=\u001b[0m\u001b[0mcreate_graph\u001b[0m\u001b[1;33m,\u001b[0m\u001b[1;33m\u001b[0m\u001b[1;33m\u001b[0m\u001b[0m\n\u001b[0;32m    244\u001b[0m                 inputs=inputs)\n\u001b[1;32m--> 245\u001b[1;33m         \u001b[0mtorch\u001b[0m\u001b[1;33m.\u001b[0m\u001b[0mautograd\u001b[0m\u001b[1;33m.\u001b[0m\u001b[0mbackward\u001b[0m\u001b[1;33m(\u001b[0m\u001b[0mself\u001b[0m\u001b[1;33m,\u001b[0m \u001b[0mgradient\u001b[0m\u001b[1;33m,\u001b[0m \u001b[0mretain_graph\u001b[0m\u001b[1;33m,\u001b[0m \u001b[0mcreate_graph\u001b[0m\u001b[1;33m,\u001b[0m \u001b[0minputs\u001b[0m\u001b[1;33m=\u001b[0m\u001b[0minputs\u001b[0m\u001b[1;33m)\u001b[0m\u001b[1;33m\u001b[0m\u001b[1;33m\u001b[0m\u001b[0m\n\u001b[0m\u001b[0;32m    246\u001b[0m \u001b[1;33m\u001b[0m\u001b[0m\n\u001b[0;32m    247\u001b[0m     \u001b[1;32mdef\u001b[0m \u001b[0mregister_hook\u001b[0m\u001b[1;33m(\u001b[0m\u001b[0mself\u001b[0m\u001b[1;33m,\u001b[0m \u001b[0mhook\u001b[0m\u001b[1;33m)\u001b[0m\u001b[1;33m:\u001b[0m\u001b[1;33m\u001b[0m\u001b[1;33m\u001b[0m\u001b[0m\n",
      "\u001b[1;32m~\\anaconda3\\lib\\site-packages\\torch\\autograd\\__init__.py\u001b[0m in \u001b[0;36mbackward\u001b[1;34m(tensors, grad_tensors, retain_graph, create_graph, grad_variables, inputs)\u001b[0m\n\u001b[0;32m    143\u001b[0m         \u001b[0mretain_graph\u001b[0m \u001b[1;33m=\u001b[0m \u001b[0mcreate_graph\u001b[0m\u001b[1;33m\u001b[0m\u001b[1;33m\u001b[0m\u001b[0m\n\u001b[0;32m    144\u001b[0m \u001b[1;33m\u001b[0m\u001b[0m\n\u001b[1;32m--> 145\u001b[1;33m     Variable._execution_engine.run_backward(\n\u001b[0m\u001b[0;32m    146\u001b[0m         \u001b[0mtensors\u001b[0m\u001b[1;33m,\u001b[0m \u001b[0mgrad_tensors_\u001b[0m\u001b[1;33m,\u001b[0m \u001b[0mretain_graph\u001b[0m\u001b[1;33m,\u001b[0m \u001b[0mcreate_graph\u001b[0m\u001b[1;33m,\u001b[0m \u001b[0minputs\u001b[0m\u001b[1;33m,\u001b[0m\u001b[1;33m\u001b[0m\u001b[1;33m\u001b[0m\u001b[0m\n\u001b[0;32m    147\u001b[0m         allow_unreachable=True, accumulate_grad=True)  # allow_unreachable flag\n",
      "\u001b[1;31mKeyboardInterrupt\u001b[0m: "
     ]
    }
   ],
   "source": [
    "# Hyperparameters \n",
    "\n",
    "num_epochs = 5000 \n",
    "learning_rate = 0.001\n",
    "\n",
    "input_size = 1 #number of features\n",
    "hidden_sizes = [1,3,5,10,20] #number of features in hidden state\n",
    "num_layerss = [1,2,3] #number of stacked lstm layers\n",
    "seq_lens = [1,5,10]\n",
    "\n",
    "\n",
    "# Run training with differing hyperparameters\n",
    "\n",
    "for hidden_size in hidden_sizes:\n",
    "    for seq_len in seq_lens:\n",
    "        for num_layers in num_layerss:\n",
    "            train(num_epochs, learning_rate, input_size, hidden_size, num_layers, seq_len)"
   ]
  }
 ],
 "metadata": {
  "kernelspec": {
   "display_name": "Python 3",
   "language": "python",
   "name": "python3"
  },
  "language_info": {
   "codemirror_mode": {
    "name": "ipython",
    "version": 3
   },
   "file_extension": ".py",
   "mimetype": "text/x-python",
   "name": "python",
   "nbconvert_exporter": "python",
   "pygments_lexer": "ipython3",
   "version": "3.8.5"
  }
 },
 "nbformat": 4,
 "nbformat_minor": 4
}
